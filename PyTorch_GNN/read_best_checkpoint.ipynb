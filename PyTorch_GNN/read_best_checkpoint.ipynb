{
 "cells": [
  {
   "cell_type": "code",
   "execution_count": 1,
   "id": "8644d308",
   "metadata": {},
   "outputs": [],
   "source": [
    "import torch"
   ]
  },
  {
   "cell_type": "code",
   "execution_count": 2,
   "id": "059ffb90",
   "metadata": {},
   "outputs": [
    {
     "data": {
      "text/plain": [
       "31705.604063604238"
      ]
     },
     "execution_count": 2,
     "metadata": {},
     "output_type": "execute_result"
    }
   ],
   "source": [
    "checkpoint = torch.load(\"best_checkpoint.pt\")\n",
    "checkpoint[\"val_avg_tour_length\"]"
   ]
  },
  {
   "cell_type": "code",
   "execution_count": 3,
   "id": "c46161c5",
   "metadata": {},
   "outputs": [
    {
     "data": {
      "text/plain": [
       "7"
      ]
     },
     "execution_count": 3,
     "metadata": {},
     "output_type": "execute_result"
    }
   ],
   "source": [
    "checkpoint = torch.load(\"results/results_definitive/best_checkpoint.pt\")\n",
    "checkpoint[\"val_avg_tour_length\"]\n",
    "checkpoint[\"epoch\"]"
   ]
  },
  {
   "cell_type": "code",
   "execution_count": 16,
   "id": "f1fab3d5",
   "metadata": {},
   "outputs": [
    {
     "name": "stdout",
     "output_type": "stream",
     "text": [
      "15984.103030303027\n",
      "7145.424242424242\n"
     ]
    }
   ],
   "source": [
    "cluster = 7\n",
    "checkpoint2 = torch.load(f\"zone_results/best_checkpoint_{cluster}.pt\", weights_only=False)\n",
    "print(checkpoint2[\"val_avg_tour_length\"])\n",
    "print(checkpoint2[\"actual_length\"])"
   ]
  },
  {
   "cell_type": "code",
   "execution_count": null,
   "id": "68b740c8-99ae-4ba4-8873-fc508e70aa93",
   "metadata": {},
   "outputs": [],
   "source": []
  }
 ],
 "metadata": {
  "kernelspec": {
   "display_name": "Python 3",
   "language": "python",
   "name": "python3"
  },
  "language_info": {
   "codemirror_mode": {
    "name": "ipython",
    "version": 3
   },
   "file_extension": ".py",
   "mimetype": "text/x-python",
   "name": "python",
   "nbconvert_exporter": "python",
   "pygments_lexer": "ipython3",
   "version": "3.12.3"
  }
 },
 "nbformat": 4,
 "nbformat_minor": 5
}
