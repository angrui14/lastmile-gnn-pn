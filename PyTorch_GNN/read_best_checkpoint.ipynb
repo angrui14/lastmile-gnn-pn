{
 "cells": [
  {
   "cell_type": "code",
   "execution_count": 3,
   "id": "8644d308",
   "metadata": {},
   "outputs": [],
   "source": [
    "import torch\n",
    "import sys"
   ]
  },
  {
   "cell_type": "code",
   "execution_count": 4,
   "id": "cda10e39",
   "metadata": {},
   "outputs": [],
   "source": [
    "from GNNEncoder import GNN\n",
    "from PointerDecoder import PointerDecoder"
   ]
  },
  {
   "cell_type": "code",
   "execution_count": 5,
   "id": "934f0eb1",
   "metadata": {},
   "outputs": [],
   "source": [
    "encoder = GNN(node_features=35, edge_features=1, hidden_channels=128, heads=4)\n",
    "decoder = PointerDecoder(128)"
   ]
  },
  {
   "cell_type": "code",
   "execution_count": 6,
   "id": "059ffb90",
   "metadata": {},
   "outputs": [
    {
     "data": {
      "text/plain": [
       "31705.604063604238"
      ]
     },
     "execution_count": 6,
     "metadata": {},
     "output_type": "execute_result"
    }
   ],
   "source": [
    "checkpoint = torch.load(\"results/best_checkpoint.pt\")\n",
    "checkpoint[\"val_avg_tour_length\"]"
   ]
  },
  {
   "cell_type": "code",
   "execution_count": 9,
   "id": "da6173e3",
   "metadata": {},
   "outputs": [
    {
     "data": {
      "text/plain": [
       "<All keys matched successfully>"
      ]
     },
     "execution_count": 9,
     "metadata": {},
     "output_type": "execute_result"
    }
   ],
   "source": [
    "encoder.load_state_dict(checkpoint[\"encoder_state_dict\"])\n",
    "decoder.load_state_dict(checkpoint[\"decoder_state_dict\"])"
   ]
  },
  {
   "cell_type": "code",
   "execution_count": 12,
   "id": "8becd0b6",
   "metadata": {},
   "outputs": [],
   "source": [
    "def get_model_size_mb(model):\n",
    "    param_size = 0\n",
    "    for param in model.parameters():\n",
    "        param_size += param.nelement() * param.element_size()  # Total bytes\n",
    "    return param_size / (1024 ** 2) "
   ]
  },
  {
   "cell_type": "code",
   "execution_count": 14,
   "id": "3b99e146",
   "metadata": {},
   "outputs": [
    {
     "data": {
      "text/plain": [
       "0.693359375"
      ]
     },
     "execution_count": 14,
     "metadata": {},
     "output_type": "execute_result"
    }
   ],
   "source": [
    "get_model_size_mb(decoder)"
   ]
  },
  {
   "cell_type": "code",
   "execution_count": 15,
   "id": "f1fab3d5",
   "metadata": {},
   "outputs": [
    {
     "name": "stdout",
     "output_type": "stream",
     "text": [
      "15984.103030303027\n",
      "7145.424242424242\n"
     ]
    }
   ],
   "source": [
    "cluster = 7\n",
    "checkpoint2 = torch.load(f\"zone_results/best_checkpoint_{cluster}.pt\", weights_only=False)\n",
    "print(checkpoint2[\"val_avg_tour_length\"])\n",
    "print(checkpoint2[\"actual_length\"])"
   ]
  },
  {
   "cell_type": "code",
   "execution_count": 16,
   "id": "b90e88ca",
   "metadata": {},
   "outputs": [
    {
     "data": {
      "text/plain": [
       "<All keys matched successfully>"
      ]
     },
     "execution_count": 16,
     "metadata": {},
     "output_type": "execute_result"
    }
   ],
   "source": [
    "encoder.load_state_dict(checkpoint[\"encoder_state_dict\"])\n",
    "decoder.load_state_dict(checkpoint[\"decoder_state_dict\"])"
   ]
  },
  {
   "cell_type": "code",
   "execution_count": 17,
   "id": "4d67d87f",
   "metadata": {},
   "outputs": [
    {
     "data": {
      "text/plain": [
       "0.693359375"
      ]
     },
     "execution_count": 17,
     "metadata": {},
     "output_type": "execute_result"
    }
   ],
   "source": [
    "get_model_size_mb(decoder)"
   ]
  },
  {
   "cell_type": "code",
   "execution_count": null,
   "id": "68b740c8-99ae-4ba4-8873-fc508e70aa93",
   "metadata": {},
   "outputs": [],
   "source": []
  }
 ],
 "metadata": {
  "kernelspec": {
   "display_name": "Python 3",
   "language": "python",
   "name": "python3"
  },
  "language_info": {
   "codemirror_mode": {
    "name": "ipython",
    "version": 3
   },
   "file_extension": ".py",
   "mimetype": "text/x-python",
   "name": "python",
   "nbconvert_exporter": "python",
   "pygments_lexer": "ipython3",
   "version": "3.12.3"
  }
 },
 "nbformat": 4,
 "nbformat_minor": 5
}
