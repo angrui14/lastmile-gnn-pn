{
 "cells": [
  {
   "cell_type": "markdown",
   "id": "19365e6f",
   "metadata": {},
   "source": [
    "# Imports"
   ]
  },
  {
   "cell_type": "code",
   "execution_count": 1,
   "id": "53a8cd09",
   "metadata": {},
   "outputs": [],
   "source": [
    "import os\n",
    "os.environ[\"TF_USE_LEGACY_KERAS\"] = \"1\"\n",
    "os.environ[\"CUDA_VISIBLE_DEVICES\"] = \"0\"\n",
    "os.environ['TF_CPP_MIN_LOG_LEVEL'] = '2'"
   ]
  },
  {
   "cell_type": "code",
   "execution_count": 2,
   "id": "559378a6",
   "metadata": {},
   "outputs": [
    {
     "name": "stderr",
     "output_type": "stream",
     "text": [
      "2025-05-13 11:02:42.925806: E external/local_xla/xla/stream_executor/cuda/cuda_fft.cc:467] Unable to register cuFFT factory: Attempting to register factory for plugin cuFFT when one has already been registered\n",
      "WARNING: All log messages before absl::InitializeLog() is called are written to STDERR\n",
      "E0000 00:00:1747134162.996673     583 cuda_dnn.cc:8579] Unable to register cuDNN factory: Attempting to register factory for plugin cuDNN when one has already been registered\n",
      "E0000 00:00:1747134163.015109     583 cuda_blas.cc:1407] Unable to register cuBLAS factory: Attempting to register factory for plugin cuBLAS when one has already been registered\n",
      "W0000 00:00:1747134163.120462     583 computation_placer.cc:177] computation placer already registered. Please check linkage and avoid linking the same target more than once.\n",
      "W0000 00:00:1747134163.120482     583 computation_placer.cc:177] computation placer already registered. Please check linkage and avoid linking the same target more than once.\n",
      "W0000 00:00:1747134163.120483     583 computation_placer.cc:177] computation placer already registered. Please check linkage and avoid linking the same target more than once.\n",
      "W0000 00:00:1747134163.120484     583 computation_placer.cc:177] computation placer already registered. Please check linkage and avoid linking the same target more than once.\n"
     ]
    }
   ],
   "source": [
    "import tensorflow as tf\n",
    "import tensorflow_gnn as tfgnn"
   ]
  },
  {
   "cell_type": "code",
   "execution_count": 3,
   "id": "3ec05c84",
   "metadata": {},
   "outputs": [],
   "source": [
    "import pandas as pd\n",
    "import json\n",
    "import numpy as np\n",
    "import itertools\n",
    "import plotly.express as px\n",
    "import matplotlib.pyplot as plt\n",
    "import networkx as nx\n",
    "from sklearn.cluster import DBSCAN\n",
    "import random"
   ]
  },
  {
   "cell_type": "code",
   "execution_count": 4,
   "id": "3d2ed95c",
   "metadata": {},
   "outputs": [
    {
     "name": "stdout",
     "output_type": "stream",
     "text": [
      "Dispositivos visibles: [PhysicalDevice(name='/physical_device:CPU:0', device_type='CPU')]\n"
     ]
    }
   ],
   "source": [
    "tf.config.set_visible_devices([], 'GPU')\n",
    "print(\"Dispositivos visibles:\", tf.config.get_visible_devices())"
   ]
  },
  {
   "cell_type": "code",
   "execution_count": 5,
   "id": "8455dd64",
   "metadata": {},
   "outputs": [],
   "source": [
    "tf.random.set_seed(14)"
   ]
  },
  {
   "cell_type": "markdown",
   "id": "e047e3f0",
   "metadata": {},
   "source": [
    "# Load data"
   ]
  },
  {
   "cell_type": "code",
   "execution_count": 6,
   "id": "9103a831",
   "metadata": {},
   "outputs": [],
   "source": [
    "path = 'almrrc2021/almrrc2021-data-training/model_build_inputs/'"
   ]
  },
  {
   "cell_type": "code",
   "execution_count": 7,
   "id": "556253cd",
   "metadata": {},
   "outputs": [],
   "source": [
    "with open(path + 'route_data.json') as f:\n",
    "  routes = json.load(f)"
   ]
  },
  {
   "cell_type": "code",
   "execution_count": 8,
   "id": "6d83c41f",
   "metadata": {},
   "outputs": [],
   "source": [
    "with open(path + 'actual_sequences.json') as f:\n",
    "  actual = json.load(f)"
   ]
  },
  {
   "cell_type": "code",
   "execution_count": 9,
   "id": "382a076f",
   "metadata": {},
   "outputs": [],
   "source": [
    "with open(path + 'package_data.json') as f:\n",
    "  package_json = json.load(f)"
   ]
  },
  {
   "cell_type": "code",
   "execution_count": 10,
   "id": "bbc51cda",
   "metadata": {},
   "outputs": [],
   "source": [
    "with open(path + 'travel_times.json') as f:\n",
    "  times = json.load(f)"
   ]
  },
  {
   "cell_type": "code",
   "execution_count": 11,
   "id": "c1fccaff",
   "metadata": {},
   "outputs": [],
   "source": [
    "rows = []\n",
    "\n",
    "for route_id, route_info in routes.items():\n",
    "  general_info = {\n",
    "    \"route_id\": route_id,\n",
    "    \"station_code\": route_info[\"station_code\"],\n",
    "    \"date\": route_info[\"date_YYYY_MM_DD\"],\n",
    "    \"departure_time_utc\": route_info[\"departure_time_utc\"],\n",
    "    \"executor_capacity_cm3\": route_info[\"executor_capacity_cm3\"],\n",
    "    \"route_score\": route_info[\"route_score\"],\n",
    "  }\n",
    "\n",
    "  stops = route_info.get(\"stops\", {})\n",
    "  for stop_id, stop_info in stops.items():\n",
    "    row = {\n",
    "      **general_info,\n",
    "      \"stop_id\": stop_id,\n",
    "      \"lat\": stop_info[\"lat\"],\n",
    "      \"lng\": stop_info[\"lng\"],\n",
    "      \"type\": stop_info[\"type\"],\n",
    "      \"zone_id\": stop_info[\"zone_id\"],\n",
    "    }\n",
    "    rows.append(row)\n",
    "\n",
    "df = pd.DataFrame(rows)\n",
    "\n",
    "df = df[df[\"route_score\"] != \"Low\"]"
   ]
  },
  {
   "cell_type": "code",
   "execution_count": 12,
   "id": "551a0f34",
   "metadata": {},
   "outputs": [],
   "source": [
    "routes_dict = {}\n",
    "\n",
    "for route, data in df.groupby(\"route_id\"):\n",
    "  routes_dict[route] = {\n",
    "      \"lat\": data[\"lat\"].mean().item(),\n",
    "      \"lng\": data[\"lng\"].mean().item()\n",
    "  }\n",
    "\n",
    "\n",
    "routes_df = pd.DataFrame(routes_dict).T\n",
    "\n",
    "coords = routes_df[[\"lat\", \"lng\"]].to_numpy()\n",
    "\n",
    "db = DBSCAN(eps=0.01, min_samples=5, metric='haversine').fit(np.radians(coords))\n",
    "routes_df[\"cluster\"] = db.labels_\n",
    "routes_df = routes_df.reset_index().rename(columns={\"index\": \"route_id\"})\n",
    "\n",
    "df = df.merge(routes_df[[\"route_id\", \"cluster\"]], on=\"route_id\", how=\"left\")\n",
    "df = df[df[\"cluster\"] == 4]"
   ]
  },
  {
   "cell_type": "code",
   "execution_count": 13,
   "id": "0e768b66",
   "metadata": {},
   "outputs": [],
   "source": [
    "actual_routes_list = []\n",
    "\n",
    "for route_id in df[\"route_id\"].unique():\n",
    "    actual_df = pd.DataFrame(actual[route_id])\n",
    "    actual_df[\"route_id\"] = route_id\n",
    "    actual_df = actual_df.reset_index().rename(columns={\"index\": \"stop_id\", \"actual\": \"order\"})\n",
    "    actual_df[\"order\"] = actual_df[\"order\"].astype(str)\n",
    "    actual_df[\"is_start\"] = actual_df[\"order\"].apply(lambda x: True if x == \"0\" else False)\n",
    "    actual_routes_list.append(actual_df[[\"route_id\", \"stop_id\", \"order\", \"is_start\"]])\n",
    "\n",
    "actual_routes = pd.concat(actual_routes_list, ignore_index=True)\n",
    "df = df.merge(actual_routes, on=[\"route_id\", \"stop_id\"], how=\"left\")"
   ]
  },
  {
   "cell_type": "code",
   "execution_count": 14,
   "id": "1131998d",
   "metadata": {},
   "outputs": [],
   "source": [
    "df.loc[pd.isna(df[\"zone_id\"]) & (df[\"order\"] == \"0\"), \"zone_id\"] = \"Depot\""
   ]
  },
  {
   "cell_type": "code",
   "execution_count": 15,
   "id": "9fc59990",
   "metadata": {},
   "outputs": [],
   "source": [
    "df[\"zone_id\"] = df[\"zone_id\"].fillna(\"Unknown\")"
   ]
  },
  {
   "cell_type": "code",
   "execution_count": 16,
   "id": "05f3b714",
   "metadata": {},
   "outputs": [],
   "source": [
    "package_df = pd.DataFrame(package_json)\n",
    "package_df = package_df.reset_index().rename(columns={\"index\": \"stop_id\"})\n",
    "rows = []\n",
    "for route in df[\"route_id\"].unique():\n",
    "    route_packages = package_df[[\"stop_id\", route]].dropna()\n",
    "    route_packages = route_packages.set_index(\"stop_id\")\n",
    "    for stop, package in route_packages.iterrows():\n",
    "        p = package.values[0]\n",
    "        package_info = list(p.values())\n",
    "        if len(package_info) > 0:\n",
    "            rows.append({\n",
    "                \"route_id\": route,\n",
    "                \"stop_id\": stop,\n",
    "                \"planned_time\": package_info[0][\"planned_service_time_seconds\"],\n",
    "            })\n",
    "\n",
    "pdf = pd.DataFrame(rows)\n",
    "\n",
    "df = df.merge(pdf, on=[\"route_id\", \"stop_id\"], how=\"left\")"
   ]
  },
  {
   "cell_type": "code",
   "execution_count": 17,
   "id": "d00afbfe",
   "metadata": {},
   "outputs": [],
   "source": [
    "df[\"order\"] = df[\"order\"].apply(lambda x: int(x))"
   ]
  },
  {
   "cell_type": "code",
   "execution_count": 18,
   "id": "54911c3a",
   "metadata": {},
   "outputs": [],
   "source": [
    "grouped = df.groupby(by=\"route_id\")"
   ]
  },
  {
   "cell_type": "markdown",
   "id": "23fb651f",
   "metadata": {},
   "source": [
    "# Generate graph"
   ]
  },
  {
   "cell_type": "code",
   "execution_count": 19,
   "id": "8628f965",
   "metadata": {},
   "outputs": [],
   "source": [
    "def calculate_time(id_route, stop_list):\n",
    "    total_time = 0\n",
    "    for stop in stop_list[:-1]:\n",
    "        total_time += times[id_route][stop][stop_list[stop_list.index(stop) + 1]]\n",
    "    return total_time"
   ]
  },
  {
   "cell_type": "code",
   "execution_count": 91,
   "id": "6de0b651",
   "metadata": {},
   "outputs": [],
   "source": [
    "def create_graph(route, stops_idx, zone_idxs_list):\n",
    "    src_nodes = []\n",
    "    dst_nodes = []\n",
    "    edge_weights = []\n",
    "\n",
    "    edges = []\n",
    "    edges_in_path = []\n",
    "   \n",
    "    for stop in route.stop_id:\n",
    "        for stop2 in route.stop_id:\n",
    "            if stop != stop2:\n",
    "                src_nodes.append(stops_idx[stop])\n",
    "                dst_nodes.append(stops_idx[stop2])\n",
    "                edges.append((stops_idx[stop], stops_idx[stop2]))\n",
    "                edge_weights.append(times[route_id][stop][stop2])\n",
    "\n",
    "    predicted_route = route.sort_values(by=\"order\")[\"stop_id\"].tolist()\n",
    "\n",
    "    for i in range(len(predicted_route) - 1):\n",
    "        edges_in_path.append((stops_idx[predicted_route[i]], stops_idx[predicted_route[i + 1]]))\n",
    "\n",
    "    is_in_path = np.zeros(len(edges), dtype=np.int32)\n",
    "    for i, edge in enumerate(edges):\n",
    "        if edge in edges_in_path:\n",
    "            is_in_path[i] = 1\n",
    "\n",
    "    \n",
    "\n",
    "    lats = np.array(route.lat.tolist())\n",
    "    lngs = np.array(route.lng.tolist())\n",
    "\n",
    "    lat_min, lat_max = lats.min(), lats.max()\n",
    "    lng_min, lng_max = lngs.min(), lngs.max()\n",
    "\n",
    "    lats = (lats - lat_min) / (lat_max - lat_min)\n",
    "    lngs = (lngs - lng_min) / (lng_max - lng_min)\n",
    "\n",
    "    planned_time = np.array(route.planned_time.tolist())\n",
    "\n",
    "    time_min, time_max = planned_time.min(), planned_time.max()\n",
    "    planned_time = (planned_time - time_min) / (time_max - time_min)\n",
    "\n",
    "    coords = tf.cast(tf.stack([lats, lngs], axis=1), dtype=tf.float16)\n",
    "    zones = tf.convert_to_tensor(zone_idxs_list, dtype=tf.float16)\n",
    "    is_start = tf.convert_to_tensor(route.is_start.tolist(), dtype=tf.bool)\n",
    "    stop_id = tf.convert_to_tensor(list(stops_idx.values()), dtype=tf.float16)\n",
    "\n",
    "    graph_tensor = tfgnn.GraphTensor.from_pieces(\n",
    "        node_sets={\n",
    "            \"stops\": tfgnn.NodeSet.from_fields(\n",
    "                sizes=[len(route)],\n",
    "                features={\n",
    "                    # \"lat\": tf.convert_to_tensor(lats, dtype=tf.float16),\n",
    "                    # \"lng\": tf.convert_to_tensor(lngs, dtype=tf.float16),\n",
    "                    \"stop_id\" : tf.expand_dims(stop_id, axis=1),\n",
    "                    \"coords\" : coords,\n",
    "                    \"zone_id\": tf.expand_dims(zones, axis=1),\n",
    "                    \"is_start\": tf.expand_dims(is_start, axis=1),\n",
    "                    # \"planned_time\": tf.convert_to_tensor(planned_time, dtype=tf.float32)\n",
    "                },\n",
    "            )\n",
    "        },\n",
    "        edge_sets={\n",
    "            \"travel_times\": tfgnn.EdgeSet.from_fields(\n",
    "                sizes=[len(edge_weights)],\n",
    "                adjacency=tfgnn.Adjacency.from_indices(\n",
    "                    source=(\"stops\", src_nodes),\n",
    "                    target=(\"stops\", dst_nodes),\n",
    "                ),\n",
    "                features={\n",
    "                    \"travel_time\": tf.convert_to_tensor(edge_weights, dtype=tf.float16),\n",
    "                },\n",
    "            )\n",
    "        },\n",
    "    )\n",
    "                \n",
    "    return predicted_route, is_in_path, graph_tensor"
   ]
  },
  {
   "cell_type": "code",
   "execution_count": 92,
   "id": "9aeabe4f",
   "metadata": {},
   "outputs": [],
   "source": [
    "graph_list = []\n",
    "target_list_nodes = []\n",
    "target_list_edges = []\n",
    "idx_stops_list = []\n",
    "nx_graphs = []\n",
    "routes = []\n",
    "\n",
    "for route_id, route in itertools.islice(grouped, 500):\n",
    "\n",
    "    routes.append(route)\n",
    "\n",
    "    stops_idx = {stop: idx for idx, stop in enumerate(route.stop_id)}\n",
    "    idx_stops = {idx: stop for idx, stop in enumerate(route.stop_id)}\n",
    "    idx_stops_list.append(idx_stops)\n",
    "\n",
    "    zone_codes = route[\"zone_id\"].tolist()\n",
    "    zones_idxs = {zone: i for i, zone in enumerate(set(zone_codes))}\n",
    "    zone_idxs_list = [zones_idxs[z] for z in zone_codes]\n",
    "\n",
    "    predicted_route, is_in_path, original_graph = create_graph(route, stops_idx, zone_idxs_list)\n",
    "    graph_list.append(original_graph)\n",
    "    \n",
    "    target_positions = [predicted_route.index(stop) for stop in route.stop_id]\n",
    "    target_positions = tf.convert_to_tensor(target_positions, tf.int32)\n",
    "\n",
    "    order = [(int(o), stop_id) for o, stop_id in zip(route.order, route.stop_id)]\n",
    "    order = sorted(order, key=lambda x: x[0])\n",
    "    order = [stop_id for _, stop_id in order]\n",
    "    order = [stops_idx[stop] for stop in order]\n",
    "    order = tf.convert_to_tensor(order, dtype=tf.int32)\n",
    "\n",
    "    max_order = tf.math.reduce_max(order)\n",
    "    min_order = tf.math.reduce_min(order)\n",
    "\n",
    "    order = (order - min_order) / (max_order - min_order)\n",
    "    order = tf.cast(order, tf.float16)\n",
    "    target_list_nodes.append(order)\n",
    "    target_list_edges.append(is_in_path)\n",
    "\n",
    "    # route = route.set_index(\"stop_id\")\n",
    "\n",
    "    # g = nx.DiGraph()\n",
    "    # g.add_nodes_from(route.index)\n",
    "    # g.add_edges_from([(stop, stop2, {\"weight\": times[route_id][stop][stop2]}) for stop in route.index for stop2 in route.index if stop != stop2])\n",
    "    # nx.set_node_attributes(g, route.lat.to_dict(), \"lat\")\n",
    "    # nx.set_node_attributes(g, route.lng.to_dict(), \"lng\")\n",
    "    # nx.set_node_attributes(g, route.is_start.to_dict(), \"is_start\")\n",
    "    # nx.set_node_attributes(g, route.zone_id.to_dict(), \"zone_id\")\n",
    "    # nx_graphs.append(g)"
   ]
  },
  {
   "cell_type": "code",
   "execution_count": 93,
   "id": "7b61969c",
   "metadata": {},
   "outputs": [],
   "source": [
    "def generator_nodes():\n",
    "    for graph, target in zip(graph_list, target_list_nodes):\n",
    "        yield graph, target\n",
    "\n",
    "def generator_edges():\n",
    "    for graph, target in zip(graph_list, target_list_edges):\n",
    "        yield graph, target"
   ]
  },
  {
   "cell_type": "code",
   "execution_count": 94,
   "id": "8fd5af41",
   "metadata": {},
   "outputs": [],
   "source": [
    "node_features = {\n",
    "    # \"lat\" : tf.TensorSpec([None], tf.float16),\n",
    "    # \"lng\" : tf.TensorSpec([None], tf.float16),\n",
    "    \"stop_id\" : tf.TensorSpec([None, 1], tf.float16),\n",
    "    \"coords\" : tf.TensorSpec([None, 2], tf.float16),\n",
    "    \"zone_id\" : tf.TensorSpec([None, 1], tf.float16),\n",
    "    \"is_start\" : tf.TensorSpec([None, 1], tf.bool),\n",
    "    # \"planned_time\" : tf.TensorSpec([None], tf.float32),\n",
    "}\n",
    "\n",
    "edge_features = {\n",
    "    \"travel_time\" : tf.TensorSpec([None], tf.float16),\n",
    "    # \"is_in_path\" : tf.TensorSpec([None], tf.float16),\n",
    "}\n",
    "\n",
    "adjacency = tfgnn.AdjacencySpec.from_incident_node_sets(\n",
    "    source_node_set=\"stops\",\n",
    "    target_node_set=\"stops\",\n",
    "    index_spec=tf.TensorSpec([None], tf.int32)\n",
    ")\n",
    "\n",
    "graph_spec = tfgnn.GraphTensorSpec.from_piece_specs(\n",
    "    node_sets_spec={\n",
    "        \"stops\": tfgnn.NodeSetSpec.from_field_specs(\n",
    "            features_spec=node_features,\n",
    "            sizes_spec=tf.TensorSpec([1], tf.int32),\n",
    "        )\n",
    "    },\n",
    "    edge_sets_spec = {\n",
    "        \"travel_times\": tfgnn.EdgeSetSpec.from_field_specs(\n",
    "            features_spec=edge_features,\n",
    "            sizes_spec=tf.TensorSpec([1], tf.int32),\n",
    "            adjacency_spec=adjacency\n",
    "        )\n",
    "    },\n",
    ")"
   ]
  },
  {
   "cell_type": "code",
   "execution_count": 95,
   "id": "85059f97",
   "metadata": {},
   "outputs": [],
   "source": [
    "for g in graph_list:\n",
    "    if not graph_spec.is_compatible_with(g):\n",
    "        print(\"Graph is not compatible with the spec\")\n",
    "        break"
   ]
  },
  {
   "cell_type": "code",
   "execution_count": 96,
   "id": "536d9f2a",
   "metadata": {},
   "outputs": [],
   "source": [
    "dataset_nodes = tf.data.Dataset.from_generator(\n",
    "    generator=generator_nodes,\n",
    "    output_signature=(\n",
    "        graph_spec,\n",
    "        tf.TensorSpec(shape=(None,), dtype=tf.float16),\n",
    "    )\n",
    ")\n",
    "\n",
    "\n",
    "dataset_edges = tf.data.Dataset.from_generator(\n",
    "    generator=generator_edges,\n",
    "    output_signature=(\n",
    "        graph_spec,\n",
    "        tf.TensorSpec(shape=(None,), dtype=tf.int32),\n",
    "    )\n",
    ")"
   ]
  },
  {
   "cell_type": "markdown",
   "id": "5ccb599d",
   "metadata": {},
   "source": [
    "# TF-GNN Model"
   ]
  },
  {
   "cell_type": "code",
   "execution_count": 26,
   "id": "197ea7b3",
   "metadata": {},
   "outputs": [],
   "source": [
    "from tensorflow_gnn.models import gat_v2, graph_sage"
   ]
  },
  {
   "cell_type": "code",
   "execution_count": 136,
   "id": "5aae8018",
   "metadata": {},
   "outputs": [],
   "source": [
    "class GNN(tf.keras.Model):\n",
    "    def __init__(self, hidden_dim=64, num_layers=3):\n",
    "        super().__init__()\n",
    "        \n",
    "        self.hidden_dim = hidden_dim\n",
    "        self.iters = num_layers\n",
    "\n",
    "        self.map_features = tfgnn.keras.layers.MapFeatures(\n",
    "            node_sets_fn=self.set_initial_node_state,\n",
    "            edge_sets_fn=self.set_initial_edge_state\n",
    "        )\n",
    "\n",
    "        self.graph_updates = []\n",
    "        for _ in range(num_layers):\n",
    "            graph_update = tfgnn.keras.layers.GraphUpdate(\n",
    "                # edge_sets={\n",
    "                #     \"travel_times\": tfgnn.keras.layers.EdgeSetUpdate(\n",
    "                #         next_state=tfgnn.keras.layers.NextStateFromConcat(\n",
    "                #             tf.keras.layers.Dense(hidden_dim, activation=\"elu\")\n",
    "                #         )\n",
    "                #     )\n",
    "                # },\n",
    "                node_sets={\n",
    "                    # \"stops\": graph_sage.GCNGraphSAGENodeSetUpdate(\n",
    "                    #     edge_set_names=[\"travel_times\"],\n",
    "                    #     receiver_tag=tfgnn.TARGET,\n",
    "                    #     units=hidden_dim,\n",
    "                    #     reduce_type=\"sum\"\n",
    "                    # )\n",
    "                    \"stops\": tfgnn.keras.layers.NodeSetUpdate(\n",
    "                        {\"travel_times\": tfgnn.keras.layers.SimpleConv(\n",
    "                            message_fn=tf.keras.layers.Dense(hidden_dim, activation=\"gelu\"),\n",
    "                            reduce_type=\"sum\"\n",
    "                        )},\n",
    "                        next_state=tfgnn.keras.layers.NextStateFromConcat(\n",
    "                            tf.keras.layers.Dense(hidden_dim, activation=\"gelu\")\n",
    "                        )\n",
    "                    )\n",
    "                }\n",
    "            )\n",
    "\n",
    "            # graph_update = gat_v2.GATv2MPNNGraphUpdate(\n",
    "            #     units=hidden_dim,\n",
    "            #     message_dim=8 * hidden_dim,\n",
    "            #     num_heads=8,\n",
    "            #     receiver_tag=tfgnn.TARGET\n",
    "            # )\n",
    "            self.graph_updates.append(graph_update)\n",
    "\n",
    "\n",
    "    def set_initial_node_state(self, node_set, node_set_name):      \n",
    "        coords = node_set[\"coords\"]\n",
    "        zone_id = tf.squeeze(node_set[\"zone_id\"], axis=-1)\n",
    "        is_start = tf.cast(node_set[\"is_start\"], tf.float16)\n",
    "        stop_id = tf.squeeze(node_set[\"stop_id\"], axis=-1)\n",
    "\n",
    "\n",
    "        coords = tf.keras.layers.Dense(self.hidden_dim, activation=\"gelu\", kernel_initializer=\"he_uniform\")(coords)\n",
    "        zone_id = tf.keras.layers.Embedding(100, self.hidden_dim)(zone_id)\n",
    "        is_start = tf.keras.layers.Dense(self.hidden_dim, activation=\"gelu\", kernel_initializer=\"he_uniform\")(is_start)\n",
    "        stop_id = tf.keras.layers.Embedding(300, self.hidden_dim)(stop_id)\n",
    "\n",
    "        features = tf.concat([coords, zone_id, is_start, stop_id], axis=1) * 5.0\n",
    "\n",
    "        return features\n",
    "    \n",
    "\n",
    "    def set_initial_edge_state(self, edge_set, edge_set_name):\n",
    "        travel_time = tf.expand_dims(edge_set[\"travel_time\"], -1)\n",
    "        return tf.keras.layers.Dense(self.hidden_dim, activation=\"relu\")(travel_time)\n",
    "    \n",
    "\n",
    "    def call(self, graph):\n",
    "        graph = self.map_features(graph)\n",
    "        for update in self.graph_updates:\n",
    "            graph = update(graph)\n",
    "\n",
    "            # graph = tfgnn.keras.layers.MapFeatures(\n",
    "            #     node_sets_fn=lambda node_set, node_set_name: tf.keras.layers.LayerNormalization()(node_set[tfgnn.HIDDEN_STATE]),\n",
    "            #     edge_sets_fn=None\n",
    "            # )(graph)\n",
    "        \n",
    "        return graph.node_sets[\"stops\"][tfgnn.HIDDEN_STATE]        \n",
    "        # return graph.edge_sets[\"travel_times\"][tfgnn.HIDDEN_STATE]\n"
   ]
  },
  {
   "cell_type": "code",
   "execution_count": null,
   "id": "852f52eb",
   "metadata": {},
   "outputs": [],
   "source": [
    "class DenseOutput(tf.keras.Model):\n",
    "    \n",
    "    def __init__(self, hidden_size=64):\n",
    "        super().__init__()\n",
    "\n",
    "        self.dense = tf.keras.layers.Dense(hidden_size, activation=\"gelu\")\n",
    "        self.dense2 = tf.keras.layers.Dense(hidden_size // 2, activation=\"gelu\")\n",
    "        self.output_layer = tf.keras.layers.Dense(1, activation=\"sigmoid\")\n",
    "\n",
    "\n",
    "    def call(self, node_embeddings):\n",
    "        x = self.dense(node_embeddings)\n",
    "        x = tf.keras.layers.Dropout(0.3)(x)\n",
    "        x = self.dense2(x)\n",
    "        x = tf.keras.layers.Dropout(0.3)(x)\n",
    "        output = self.output_layer(x)\n",
    "        output = tf.squeeze(output, axis=-1)\n",
    "        return output     "
   ]
  },
  {
   "cell_type": "code",
   "execution_count": 137,
   "id": "6076f313",
   "metadata": {},
   "outputs": [
    {
     "name": "stdout",
     "output_type": "stream",
     "text": [
      "tf.Tensor(\n",
      "[    -0.     156794.61   132325.02    22196.723  307855.06       -0.\n",
      "     -0.     295593.53   104519.05       -0.      95916.445      -0.\n",
      "     -0.     269014.1        -0.     228641.98       -0.      64501.586\n",
      "     -0.         -0.      64088.844  138046.75       -0.         -0.\n",
      " 258520.06   291461.78    35683.203   32392.508      -0.         -0.\n",
      "     -0.         -0.         -0.     128091.305  153932.62   296214.03\n",
      "     -0.     139620.92   200995.25       -0.         -0.         -0.\n",
      "     -0.     159121.95       -0.         -0.         -0.      25272.273\n",
      "     -0.         -0.         -0.      70822.945      -0.         -0.\n",
      "  48354.266  180316.19     6633.0024 101017.05    73170.28       -0.\n",
      "  32230.252  169129.58       -0.     177844.34  ], shape=(64,), dtype=float32)\n",
      "tf.Tensor(\n",
      "[    -0.    139028.4   133832.22    9625.781 255649.86      -0.\n",
      "     -0.    266605.5   107566.28      -0.     85149.18      -0.\n",
      "     -0.    204873.97      -0.    170127.98      -0.     34561.6\n",
      "     -0.        -0.     64975.637 139928.14      -0.        -0.\n",
      " 213413.27  223712.55   34478.047  34632.355     -0.        -0.\n",
      "     -0.        -0.        -0.     90987.69  163490.12  256489.17\n",
      "     -0.    114574.42  196321.14      -0.        -0.        -0.\n",
      "     -0.    134148.        -0.        -0.        -0.     23256.28\n",
      "     -0.        -0.        -0.     68435.95      -0.        -0.\n",
      "  49060.06  132187.2    10938.436  90728.17   74005.52      -0.\n",
      "  21965.678 146369.17      -0.    158003.61 ], shape=(64,), dtype=float32)\n"
     ]
    }
   ],
   "source": [
    "gnn = GNN()\n",
    "do = DenseOutput()\n",
    "emb = gnn(graph_list[0])\n",
    "print(emb[0])\n",
    "print(emb[50])"
   ]
  },
  {
   "cell_type": "code",
   "execution_count": 127,
   "id": "4a7bb271",
   "metadata": {},
   "outputs": [],
   "source": [
    "class RouteOrder(tf.keras.Model):\n",
    "    def __init__(self, gnn_hidden_dim=64, gnn_layers=3):\n",
    "        super().__init__()\n",
    "        self.gnn = GNN(gnn_hidden_dim, gnn_layers)\n",
    "        self.dense_output = DenseOutput()\n",
    "\n",
    "    def call(self, graph):\n",
    "        node_embeddings = self.gnn(graph)\n",
    "        # node_embeddings = tf.expand_dims(node_embeddings, 0)\n",
    "        output = self.dense_output(node_embeddings)\n",
    "        return output"
   ]
  },
  {
   "cell_type": "code",
   "execution_count": 30,
   "id": "0c01b0b7",
   "metadata": {},
   "outputs": [],
   "source": [
    "def get_ordered_pairs_vectorized(y_true):\n",
    "    y1 = tf.expand_dims(y_true, 0)  # (1, N)\n",
    "    y2 = tf.expand_dims(y_true, 1)  # (N, 1)\n",
    "\n",
    "    mask_pos = y1 < y2\n",
    "    mask_neg = y1 > y2\n",
    "\n",
    "    pos_pairs = tf.where(mask_pos)\n",
    "    neg_pairs = tf.where(mask_neg)\n",
    "\n",
    "    pos_labels = tf.ones(tf.shape(pos_pairs)[0], dtype=tf.float32)\n",
    "    neg_labels = -tf.ones(tf.shape(neg_pairs)[0], dtype=tf.float32)\n",
    "\n",
    "    pair_indices = tf.concat([pos_pairs, neg_pairs], axis=0)\n",
    "    labels = tf.concat([pos_labels, neg_labels], axis=0)\n",
    "\n",
    "    return pair_indices, labels\n",
    "\n",
    "def pairwise_ranking_loss(y_pred, pair_indices, labels, margin=1.0):\n",
    "    i_idx, j_idx = pair_indices[:, 0], pair_indices[:, 1]\n",
    "    pred_diff = tf.gather(y_pred, i_idx) - tf.gather(y_pred, j_idx)\n",
    "    # labels: +1 si i debe ir antes que j, -1 si al revés\n",
    "    losses = tf.maximum(0.0, margin - labels * pred_diff)\n",
    "    return tf.reduce_mean(losses)"
   ]
  },
  {
   "cell_type": "code",
   "execution_count": 138,
   "id": "e1d2a997",
   "metadata": {},
   "outputs": [],
   "source": [
    "model = RouteOrder(gnn_hidden_dim=64, gnn_layers=3)\n",
    "\n",
    "# loss_fn = tf.keras.losses.SparseCategoricalCrossentropy()\n",
    "loss_fn = tf.keras.losses.MeanSquaredError()\n",
    "# loss_fn = tf.keras.losses.BinaryCrossentropy()\n",
    "\n",
    "optimizer = tf.keras.optimizers.Adam(learning_rate=0.005)\n",
    "\n",
    "@tf.function(reduce_retracing=True)\n",
    "def train_step(graph, order, pair_indices, labels):\n",
    "    # order = tf.expand_dims(order, axis=0)\n",
    "\n",
    "    with tf.GradientTape() as tape:\n",
    "        output = model(graph)\n",
    "        loss = loss_fn(order, output)\n",
    "        # loss = pairwise_ranking_loss(output, pair_indices, labels, margin=2.0)\n",
    "\n",
    "    gradients = tape.gradient(loss, model.trainable_variables)\n",
    "    optimizer.apply_gradients(zip(gradients, model.trainable_variables))\n",
    "    return loss"
   ]
  },
  {
   "cell_type": "code",
   "execution_count": 117,
   "id": "6047a45f",
   "metadata": {},
   "outputs": [],
   "source": [
    "# model(graph_list[0])"
   ]
  },
  {
   "cell_type": "code",
   "execution_count": 139,
   "id": "24f7ff9f",
   "metadata": {},
   "outputs": [
    {
     "name": "stdout",
     "output_type": "stream",
     "text": [
      "WARNING:tensorflow:Gradients do not exist for variables ['dense_2/kernel:0', 'dense_2/bias:0'] when minimizing the loss. If you're using `model.compile()`, did you forget to provide a `loss` argument?\n",
      "WARNING:tensorflow:Gradients do not exist for variables ['dense_2/kernel:0', 'dense_2/bias:0'] when minimizing the loss. If you're using `model.compile()`, did you forget to provide a `loss` argument?\n",
      "WARNING:tensorflow:Gradients do not exist for variables ['dense_2/kernel:0', 'dense_2/bias:0'] when minimizing the loss. If you're using `model.compile()`, did you forget to provide a `loss` argument?\n",
      "WARNING:tensorflow:Gradients do not exist for variables ['dense_2/kernel:0', 'dense_2/bias:0'] when minimizing the loss. If you're using `model.compile()`, did you forget to provide a `loss` argument?\n",
      "WARNING:tensorflow:Gradients do not exist for variables ['dense_2/kernel:0', 'dense_2/bias:0'] when minimizing the loss. If you're using `model.compile()`, did you forget to provide a `loss` argument?\n",
      "WARNING:tensorflow:Gradients do not exist for variables ['dense_2/kernel:0', 'dense_2/bias:0'] when minimizing the loss. If you're using `model.compile()`, did you forget to provide a `loss` argument?\n"
     ]
    },
    {
     "name": "stdout",
     "output_type": "stream",
     "text": [
      "Epoch 1, Loss: 0.3354\n",
      "Epoch 2, Loss: 0.3354\n",
      "Epoch 3, Loss: 0.3354\n",
      "Epoch 4, Loss: 0.3354\n",
      "Epoch 5, Loss: 0.3354\n",
      "Epoch 6, Loss: 0.3354\n",
      "Epoch 7, Loss: 0.3354\n",
      "Epoch 8, Loss: 0.3354\n",
      "Epoch 9, Loss: 0.3354\n"
     ]
    },
    {
     "ename": "KeyboardInterrupt",
     "evalue": "",
     "output_type": "error",
     "traceback": [
      "\u001b[31m---------------------------------------------------------------------------\u001b[39m",
      "\u001b[31mKeyboardInterrupt\u001b[39m                         Traceback (most recent call last)",
      "\u001b[36mCell\u001b[39m\u001b[36m \u001b[39m\u001b[32mIn[139]\u001b[39m\u001b[32m, line 8\u001b[39m\n\u001b[32m      6\u001b[39m     labels = \u001b[38;5;28;01mNone\u001b[39;00m\n\u001b[32m      7\u001b[39m     \u001b[38;5;66;03m# pair_indices, labels = get_ordered_pairs_vectorized(target)\u001b[39;00m\n\u001b[32m----> \u001b[39m\u001b[32m8\u001b[39m     loss = \u001b[43mtrain_step\u001b[49m\u001b[43m(\u001b[49m\u001b[43mgraph\u001b[49m\u001b[43m,\u001b[49m\u001b[43m \u001b[49m\u001b[43mtarget\u001b[49m\u001b[43m,\u001b[49m\u001b[43m \u001b[49m\u001b[43mpair_indices\u001b[49m\u001b[43m,\u001b[49m\u001b[43m \u001b[49m\u001b[43mlabels\u001b[49m\u001b[43m)\u001b[49m\n\u001b[32m      9\u001b[39m \u001b[38;5;28mprint\u001b[39m(\u001b[33mf\u001b[39m\u001b[33m\"\u001b[39m\u001b[33mEpoch \u001b[39m\u001b[38;5;132;01m{\u001b[39;00mepoch+\u001b[32m1\u001b[39m\u001b[38;5;132;01m}\u001b[39;00m\u001b[33m, Loss: \u001b[39m\u001b[38;5;132;01m{\u001b[39;00mloss.numpy()\u001b[38;5;132;01m:\u001b[39;00m\u001b[33m.4f\u001b[39m\u001b[38;5;132;01m}\u001b[39;00m\u001b[33m\"\u001b[39m)\n",
      "\u001b[36mFile \u001b[39m\u001b[32m~/.local/lib/python3.12/site-packages/tensorflow/python/util/traceback_utils.py:150\u001b[39m, in \u001b[36mfilter_traceback.<locals>.error_handler\u001b[39m\u001b[34m(*args, **kwargs)\u001b[39m\n\u001b[32m    148\u001b[39m filtered_tb = \u001b[38;5;28;01mNone\u001b[39;00m\n\u001b[32m    149\u001b[39m \u001b[38;5;28;01mtry\u001b[39;00m:\n\u001b[32m--> \u001b[39m\u001b[32m150\u001b[39m   \u001b[38;5;28;01mreturn\u001b[39;00m \u001b[43mfn\u001b[49m\u001b[43m(\u001b[49m\u001b[43m*\u001b[49m\u001b[43margs\u001b[49m\u001b[43m,\u001b[49m\u001b[43m \u001b[49m\u001b[43m*\u001b[49m\u001b[43m*\u001b[49m\u001b[43mkwargs\u001b[49m\u001b[43m)\u001b[49m\n\u001b[32m    151\u001b[39m \u001b[38;5;28;01mexcept\u001b[39;00m \u001b[38;5;167;01mException\u001b[39;00m \u001b[38;5;28;01mas\u001b[39;00m e:\n\u001b[32m    152\u001b[39m   filtered_tb = _process_traceback_frames(e.__traceback__)\n",
      "\u001b[36mFile \u001b[39m\u001b[32m~/.local/lib/python3.12/site-packages/tensorflow/python/eager/polymorphic_function/polymorphic_function.py:833\u001b[39m, in \u001b[36mFunction.__call__\u001b[39m\u001b[34m(self, *args, **kwds)\u001b[39m\n\u001b[32m    830\u001b[39m compiler = \u001b[33m\"\u001b[39m\u001b[33mxla\u001b[39m\u001b[33m\"\u001b[39m \u001b[38;5;28;01mif\u001b[39;00m \u001b[38;5;28mself\u001b[39m._jit_compile \u001b[38;5;28;01melse\u001b[39;00m \u001b[33m\"\u001b[39m\u001b[33mnonXla\u001b[39m\u001b[33m\"\u001b[39m\n\u001b[32m    832\u001b[39m \u001b[38;5;28;01mwith\u001b[39;00m OptionalXlaContext(\u001b[38;5;28mself\u001b[39m._jit_compile):\n\u001b[32m--> \u001b[39m\u001b[32m833\u001b[39m   result = \u001b[38;5;28;43mself\u001b[39;49m\u001b[43m.\u001b[49m\u001b[43m_call\u001b[49m\u001b[43m(\u001b[49m\u001b[43m*\u001b[49m\u001b[43margs\u001b[49m\u001b[43m,\u001b[49m\u001b[43m \u001b[49m\u001b[43m*\u001b[49m\u001b[43m*\u001b[49m\u001b[43mkwds\u001b[49m\u001b[43m)\u001b[49m\n\u001b[32m    835\u001b[39m new_tracing_count = \u001b[38;5;28mself\u001b[39m.experimental_get_tracing_count()\n\u001b[32m    836\u001b[39m without_tracing = (tracing_count == new_tracing_count)\n",
      "\u001b[36mFile \u001b[39m\u001b[32m~/.local/lib/python3.12/site-packages/tensorflow/python/eager/polymorphic_function/polymorphic_function.py:869\u001b[39m, in \u001b[36mFunction._call\u001b[39m\u001b[34m(self, *args, **kwds)\u001b[39m\n\u001b[32m    866\u001b[39m   \u001b[38;5;28mself\u001b[39m._lock.release()\n\u001b[32m    867\u001b[39m   \u001b[38;5;66;03m# In this case we have created variables on the first call, so we run the\u001b[39;00m\n\u001b[32m    868\u001b[39m   \u001b[38;5;66;03m# defunned version which is guaranteed to never create variables.\u001b[39;00m\n\u001b[32m--> \u001b[39m\u001b[32m869\u001b[39m   \u001b[38;5;28;01mreturn\u001b[39;00m \u001b[43mtracing_compilation\u001b[49m\u001b[43m.\u001b[49m\u001b[43mcall_function\u001b[49m\u001b[43m(\u001b[49m\n\u001b[32m    870\u001b[39m \u001b[43m      \u001b[49m\u001b[43margs\u001b[49m\u001b[43m,\u001b[49m\u001b[43m \u001b[49m\u001b[43mkwds\u001b[49m\u001b[43m,\u001b[49m\u001b[43m \u001b[49m\u001b[38;5;28;43mself\u001b[39;49m\u001b[43m.\u001b[49m\u001b[43m_no_variable_creation_config\u001b[49m\n\u001b[32m    871\u001b[39m \u001b[43m  \u001b[49m\u001b[43m)\u001b[49m\n\u001b[32m    872\u001b[39m \u001b[38;5;28;01melif\u001b[39;00m \u001b[38;5;28mself\u001b[39m._variable_creation_config \u001b[38;5;129;01mis\u001b[39;00m \u001b[38;5;129;01mnot\u001b[39;00m \u001b[38;5;28;01mNone\u001b[39;00m:\n\u001b[32m    873\u001b[39m   \u001b[38;5;66;03m# Release the lock early so that multiple threads can perform the call\u001b[39;00m\n\u001b[32m    874\u001b[39m   \u001b[38;5;66;03m# in parallel.\u001b[39;00m\n\u001b[32m    875\u001b[39m   \u001b[38;5;28mself\u001b[39m._lock.release()\n",
      "\u001b[36mFile \u001b[39m\u001b[32m~/.local/lib/python3.12/site-packages/tensorflow/python/eager/polymorphic_function/tracing_compilation.py:139\u001b[39m, in \u001b[36mcall_function\u001b[39m\u001b[34m(args, kwargs, tracing_options)\u001b[39m\n\u001b[32m    137\u001b[39m bound_args = function.function_type.bind(*args, **kwargs)\n\u001b[32m    138\u001b[39m flat_inputs = function.function_type.unpack_inputs(bound_args)\n\u001b[32m--> \u001b[39m\u001b[32m139\u001b[39m \u001b[38;5;28;01mreturn\u001b[39;00m \u001b[43mfunction\u001b[49m\u001b[43m.\u001b[49m\u001b[43m_call_flat\u001b[49m\u001b[43m(\u001b[49m\u001b[43m  \u001b[49m\u001b[38;5;66;43;03m# pylint: disable=protected-access\u001b[39;49;00m\n\u001b[32m    140\u001b[39m \u001b[43m    \u001b[49m\u001b[43mflat_inputs\u001b[49m\u001b[43m,\u001b[49m\u001b[43m \u001b[49m\u001b[43mcaptured_inputs\u001b[49m\u001b[43m=\u001b[49m\u001b[43mfunction\u001b[49m\u001b[43m.\u001b[49m\u001b[43mcaptured_inputs\u001b[49m\n\u001b[32m    141\u001b[39m \u001b[43m\u001b[49m\u001b[43m)\u001b[49m\n",
      "\u001b[36mFile \u001b[39m\u001b[32m~/.local/lib/python3.12/site-packages/tensorflow/python/eager/polymorphic_function/concrete_function.py:1322\u001b[39m, in \u001b[36mConcreteFunction._call_flat\u001b[39m\u001b[34m(self, tensor_inputs, captured_inputs)\u001b[39m\n\u001b[32m   1318\u001b[39m possible_gradient_type = gradients_util.PossibleTapeGradientTypes(args)\n\u001b[32m   1319\u001b[39m \u001b[38;5;28;01mif\u001b[39;00m (possible_gradient_type == gradients_util.POSSIBLE_GRADIENT_TYPES_NONE\n\u001b[32m   1320\u001b[39m     \u001b[38;5;129;01mand\u001b[39;00m executing_eagerly):\n\u001b[32m   1321\u001b[39m   \u001b[38;5;66;03m# No tape is watching; skip to running the function.\u001b[39;00m\n\u001b[32m-> \u001b[39m\u001b[32m1322\u001b[39m   \u001b[38;5;28;01mreturn\u001b[39;00m \u001b[38;5;28;43mself\u001b[39;49m\u001b[43m.\u001b[49m\u001b[43m_inference_function\u001b[49m\u001b[43m.\u001b[49m\u001b[43mcall_preflattened\u001b[49m\u001b[43m(\u001b[49m\u001b[43margs\u001b[49m\u001b[43m)\u001b[49m\n\u001b[32m   1323\u001b[39m forward_backward = \u001b[38;5;28mself\u001b[39m._select_forward_and_backward_functions(\n\u001b[32m   1324\u001b[39m     args,\n\u001b[32m   1325\u001b[39m     possible_gradient_type,\n\u001b[32m   1326\u001b[39m     executing_eagerly)\n\u001b[32m   1327\u001b[39m forward_function, args_with_tangents = forward_backward.forward()\n",
      "\u001b[36mFile \u001b[39m\u001b[32m~/.local/lib/python3.12/site-packages/tensorflow/python/eager/polymorphic_function/atomic_function.py:216\u001b[39m, in \u001b[36mAtomicFunction.call_preflattened\u001b[39m\u001b[34m(self, args)\u001b[39m\n\u001b[32m    214\u001b[39m \u001b[38;5;28;01mdef\u001b[39;00m\u001b[38;5;250m \u001b[39m\u001b[34mcall_preflattened\u001b[39m(\u001b[38;5;28mself\u001b[39m, args: Sequence[core.Tensor]) -> Any:\n\u001b[32m    215\u001b[39m \u001b[38;5;250m  \u001b[39m\u001b[33;03m\"\"\"Calls with flattened tensor inputs and returns the structured output.\"\"\"\u001b[39;00m\n\u001b[32m--> \u001b[39m\u001b[32m216\u001b[39m   flat_outputs = \u001b[38;5;28;43mself\u001b[39;49m\u001b[43m.\u001b[49m\u001b[43mcall_flat\u001b[49m\u001b[43m(\u001b[49m\u001b[43m*\u001b[49m\u001b[43margs\u001b[49m\u001b[43m)\u001b[49m\n\u001b[32m    217\u001b[39m   \u001b[38;5;28;01mreturn\u001b[39;00m \u001b[38;5;28mself\u001b[39m.function_type.pack_output(flat_outputs)\n",
      "\u001b[36mFile \u001b[39m\u001b[32m~/.local/lib/python3.12/site-packages/tensorflow/python/eager/polymorphic_function/atomic_function.py:251\u001b[39m, in \u001b[36mAtomicFunction.call_flat\u001b[39m\u001b[34m(self, *args)\u001b[39m\n\u001b[32m    249\u001b[39m \u001b[38;5;28;01mwith\u001b[39;00m record.stop_recording():\n\u001b[32m    250\u001b[39m   \u001b[38;5;28;01mif\u001b[39;00m \u001b[38;5;28mself\u001b[39m._bound_context.executing_eagerly():\n\u001b[32m--> \u001b[39m\u001b[32m251\u001b[39m     outputs = \u001b[38;5;28;43mself\u001b[39;49m\u001b[43m.\u001b[49m\u001b[43m_bound_context\u001b[49m\u001b[43m.\u001b[49m\u001b[43mcall_function\u001b[49m\u001b[43m(\u001b[49m\n\u001b[32m    252\u001b[39m \u001b[43m        \u001b[49m\u001b[38;5;28;43mself\u001b[39;49m\u001b[43m.\u001b[49m\u001b[43mname\u001b[49m\u001b[43m,\u001b[49m\n\u001b[32m    253\u001b[39m \u001b[43m        \u001b[49m\u001b[38;5;28;43mlist\u001b[39;49m\u001b[43m(\u001b[49m\u001b[43margs\u001b[49m\u001b[43m)\u001b[49m\u001b[43m,\u001b[49m\n\u001b[32m    254\u001b[39m \u001b[43m        \u001b[49m\u001b[38;5;28;43mlen\u001b[39;49m\u001b[43m(\u001b[49m\u001b[38;5;28;43mself\u001b[39;49m\u001b[43m.\u001b[49m\u001b[43mfunction_type\u001b[49m\u001b[43m.\u001b[49m\u001b[43mflat_outputs\u001b[49m\u001b[43m)\u001b[49m\u001b[43m,\u001b[49m\n\u001b[32m    255\u001b[39m \u001b[43m    \u001b[49m\u001b[43m)\u001b[49m\n\u001b[32m    256\u001b[39m   \u001b[38;5;28;01melse\u001b[39;00m:\n\u001b[32m    257\u001b[39m     outputs = make_call_op_in_graph(\n\u001b[32m    258\u001b[39m         \u001b[38;5;28mself\u001b[39m,\n\u001b[32m    259\u001b[39m         \u001b[38;5;28mlist\u001b[39m(args),\n\u001b[32m    260\u001b[39m         \u001b[38;5;28mself\u001b[39m._bound_context.function_call_options.as_attrs(),\n\u001b[32m    261\u001b[39m     )\n",
      "\u001b[36mFile \u001b[39m\u001b[32m~/.local/lib/python3.12/site-packages/tensorflow/python/eager/context.py:1688\u001b[39m, in \u001b[36mContext.call_function\u001b[39m\u001b[34m(self, name, tensor_inputs, num_outputs)\u001b[39m\n\u001b[32m   1686\u001b[39m cancellation_context = cancellation.context()\n\u001b[32m   1687\u001b[39m \u001b[38;5;28;01mif\u001b[39;00m cancellation_context \u001b[38;5;129;01mis\u001b[39;00m \u001b[38;5;28;01mNone\u001b[39;00m:\n\u001b[32m-> \u001b[39m\u001b[32m1688\u001b[39m   outputs = \u001b[43mexecute\u001b[49m\u001b[43m.\u001b[49m\u001b[43mexecute\u001b[49m\u001b[43m(\u001b[49m\n\u001b[32m   1689\u001b[39m \u001b[43m      \u001b[49m\u001b[43mname\u001b[49m\u001b[43m.\u001b[49m\u001b[43mdecode\u001b[49m\u001b[43m(\u001b[49m\u001b[33;43m\"\u001b[39;49m\u001b[33;43mutf-8\u001b[39;49m\u001b[33;43m\"\u001b[39;49m\u001b[43m)\u001b[49m\u001b[43m,\u001b[49m\n\u001b[32m   1690\u001b[39m \u001b[43m      \u001b[49m\u001b[43mnum_outputs\u001b[49m\u001b[43m=\u001b[49m\u001b[43mnum_outputs\u001b[49m\u001b[43m,\u001b[49m\n\u001b[32m   1691\u001b[39m \u001b[43m      \u001b[49m\u001b[43minputs\u001b[49m\u001b[43m=\u001b[49m\u001b[43mtensor_inputs\u001b[49m\u001b[43m,\u001b[49m\n\u001b[32m   1692\u001b[39m \u001b[43m      \u001b[49m\u001b[43mattrs\u001b[49m\u001b[43m=\u001b[49m\u001b[43mattrs\u001b[49m\u001b[43m,\u001b[49m\n\u001b[32m   1693\u001b[39m \u001b[43m      \u001b[49m\u001b[43mctx\u001b[49m\u001b[43m=\u001b[49m\u001b[38;5;28;43mself\u001b[39;49m\u001b[43m,\u001b[49m\n\u001b[32m   1694\u001b[39m \u001b[43m  \u001b[49m\u001b[43m)\u001b[49m\n\u001b[32m   1695\u001b[39m \u001b[38;5;28;01melse\u001b[39;00m:\n\u001b[32m   1696\u001b[39m   outputs = execute.execute_with_cancellation(\n\u001b[32m   1697\u001b[39m       name.decode(\u001b[33m\"\u001b[39m\u001b[33mutf-8\u001b[39m\u001b[33m\"\u001b[39m),\n\u001b[32m   1698\u001b[39m       num_outputs=num_outputs,\n\u001b[32m   (...)\u001b[39m\u001b[32m   1702\u001b[39m       cancellation_manager=cancellation_context,\n\u001b[32m   1703\u001b[39m   )\n",
      "\u001b[36mFile \u001b[39m\u001b[32m~/.local/lib/python3.12/site-packages/tensorflow/python/eager/execute.py:53\u001b[39m, in \u001b[36mquick_execute\u001b[39m\u001b[34m(op_name, num_outputs, inputs, attrs, ctx, name)\u001b[39m\n\u001b[32m     51\u001b[39m \u001b[38;5;28;01mtry\u001b[39;00m:\n\u001b[32m     52\u001b[39m   ctx.ensure_initialized()\n\u001b[32m---> \u001b[39m\u001b[32m53\u001b[39m   tensors = \u001b[43mpywrap_tfe\u001b[49m\u001b[43m.\u001b[49m\u001b[43mTFE_Py_Execute\u001b[49m\u001b[43m(\u001b[49m\u001b[43mctx\u001b[49m\u001b[43m.\u001b[49m\u001b[43m_handle\u001b[49m\u001b[43m,\u001b[49m\u001b[43m \u001b[49m\u001b[43mdevice_name\u001b[49m\u001b[43m,\u001b[49m\u001b[43m \u001b[49m\u001b[43mop_name\u001b[49m\u001b[43m,\u001b[49m\n\u001b[32m     54\u001b[39m \u001b[43m                                      \u001b[49m\u001b[43minputs\u001b[49m\u001b[43m,\u001b[49m\u001b[43m \u001b[49m\u001b[43mattrs\u001b[49m\u001b[43m,\u001b[49m\u001b[43m \u001b[49m\u001b[43mnum_outputs\u001b[49m\u001b[43m)\u001b[49m\n\u001b[32m     55\u001b[39m \u001b[38;5;28;01mexcept\u001b[39;00m core._NotOkStatusException \u001b[38;5;28;01mas\u001b[39;00m e:\n\u001b[32m     56\u001b[39m   \u001b[38;5;28;01mif\u001b[39;00m name \u001b[38;5;129;01mis\u001b[39;00m \u001b[38;5;129;01mnot\u001b[39;00m \u001b[38;5;28;01mNone\u001b[39;00m:\n",
      "\u001b[31mKeyboardInterrupt\u001b[39m: "
     ]
    }
   ],
   "source": [
    "epochs = 100\n",
    "\n",
    "for epoch in range(epochs):\n",
    "    for graph, target in dataset_nodes:\n",
    "        pair_indices = None\n",
    "        labels = None\n",
    "        # pair_indices, labels = get_ordered_pairs_vectorized(target)\n",
    "        loss = train_step(graph, target, pair_indices, labels)\n",
    "    print(f\"Epoch {epoch+1}, Loss: {loss.numpy():.4f}\")"
   ]
  },
  {
   "cell_type": "code",
   "execution_count": 34,
   "id": "6fc532f6",
   "metadata": {},
   "outputs": [],
   "source": [
    "r_idx = 0"
   ]
  },
  {
   "cell_type": "code",
   "execution_count": 140,
   "id": "343dd582",
   "metadata": {},
   "outputs": [
    {
     "data": {
      "text/plain": [
       "<tf.Tensor: shape=(153,), dtype=int32, numpy=\n",
       "array([  0,   1,   2,   3,   4,   5,   6,   7,   8,   9,  10,  11,  12,\n",
       "        13,  14,  15,  16,  17,  18,  19,  20,  21,  22,  23,  24,  25,\n",
       "        26,  27,  28,  29,  30,  31,  32,  33,  34,  35,  36,  37,  38,\n",
       "        39,  40,  41,  42,  43,  44,  45,  46,  47,  48,  49,  50,  51,\n",
       "        52,  53,  54,  55,  56,  57,  58,  59,  60,  61,  62,  63,  64,\n",
       "        65,  66,  67,  68,  69,  70,  71,  72,  73,  74,  75,  76,  77,\n",
       "        78,  79,  80,  81,  82,  83,  84,  85,  86,  87,  88,  89,  90,\n",
       "        91,  92,  93,  94,  95,  96,  97,  98,  99, 100, 101, 102, 103,\n",
       "       104, 105, 106, 107, 108, 109, 110, 111, 112, 113, 114, 115, 116,\n",
       "       117, 118, 119, 120, 121, 122, 123, 124, 125, 126, 127, 128, 129,\n",
       "       130, 131, 132, 133, 134, 135, 136, 137, 138, 139, 140, 141, 142,\n",
       "       143, 144, 145, 146, 147, 148, 149, 150, 151, 152], dtype=int32)>"
      ]
     },
     "execution_count": 140,
     "metadata": {},
     "output_type": "execute_result"
    }
   ],
   "source": [
    "pred = model(graph_list[r_idx])\n",
    "# pred = tf.squeeze(pred, -1)\n",
    "pred_order = tf.argsort(pred, direction=\"ASCENDING\")\n",
    "pred_order"
   ]
  },
  {
   "cell_type": "code",
   "execution_count": 108,
   "id": "f6581c6c",
   "metadata": {},
   "outputs": [
    {
     "name": "stdout",
     "output_type": "stream",
     "text": [
      "Predicted order: ['AA', 'UB', 'EI', 'XS', 'RF', 'OY', 'SJ', 'VG', 'IG', 'SG', 'WT', 'PJ', 'HJ', 'NB', 'YN', 'RB', 'GI', 'ST', 'XU', 'MM', 'BR', 'FC', 'LH', 'ZR', 'JH', 'KT', 'LU', 'KE', 'FL', 'JX', 'XG', 'UR', 'SW', 'SV', 'OT', 'MK', 'SE', 'EB', 'NM', 'EU', 'IT', 'OD', 'TL', 'NJ', 'QB', 'RJ', 'YE', 'RO', 'SA', 'CQ', 'SI', 'CS', 'QW', 'ZW', 'HC', 'PM', 'AD', 'FR', 'XH', 'WR', 'KW', 'RE', 'KV', 'NC', 'YA', 'FA', 'GU', 'XI', 'IY', 'XT', 'RM', 'TD', 'WC', 'ME', 'ZU', 'DP', 'YU', 'XE', 'LF', 'SZ', 'WZ', 'FO', 'RV', 'VY', 'EJ', 'PS', 'HW', 'NS', 'WM', 'DJ', 'TJ', 'TY', 'OC', 'EL', 'VR', 'TP', 'DC', 'CG', 'GG', 'AZ', 'KR', 'ZG', 'IM', 'CR', 'IF', 'FJ', 'XV', 'UN', 'ZL', 'SY', 'AQ', 'ZD', 'XL', 'VS', 'KN', 'BW', 'ZQ', 'RX', 'FV', 'CA', 'SK', 'VI', 'BT', 'EF', 'UT', 'NQ', 'NE', 'DF', 'OO', 'VM', 'VB', 'UP', 'XM', 'VA', 'HD', 'BZ', 'EQ', 'PP', 'OZ', 'FY', 'XN', 'QU', 'QN', 'LO', 'MY', 'ZJ', 'ID', 'TE', 'OS', 'JG', 'CE', 'PW', 'YI']\n",
      "Actual order: ['UB', 'NE', 'KN', 'PS', 'AD', 'BZ', 'XV', 'XN', 'NS', 'QW', 'FA', 'KV', 'VS', 'CG', 'KR', 'ZL', 'XI', 'UP', 'RM', 'HC', 'LH', 'NC', 'LF', 'TJ', 'YI', 'PW', 'LU', 'AZ', 'IT', 'XL', 'WC', 'CR', 'ZU', 'OO', 'ME', 'NJ', 'RO', 'XU', 'TP', 'GU', 'CA', 'FJ', 'FY', 'JG', 'ID', 'UT', 'ZQ', 'FV', 'QU', 'SY', 'HW', 'HD', 'LO', 'CE', 'UN', 'ZG', 'XT', 'MK', 'BR', 'OT', 'YU', 'MM', 'SA', 'BW', 'TE', 'XM', 'WM', 'RX', 'EQ', 'IY', 'EJ', 'TY', 'TL', 'XG', 'WZ', 'MY', 'OS', 'ZR', 'FL', 'ST', 'FC', 'PM', 'TD', 'RJ', 'RV', 'JH', 'IM', 'ZD', 'CS', 'SI', 'EU', 'VM', 'DF', 'ZJ', 'SK', 'IG', 'EI', 'NB', 'KE', 'WT', 'AA', 'OY', 'SJ', 'YN', 'GI', 'XS', 'BT', 'QB', 'JX', 'SV', 'HJ', 'RE', 'NM', 'YE', 'WR', 'QN', 'DC', 'PP', 'NQ', 'YA', 'EF', 'AQ', 'DP', 'VY', 'VI', 'OC', 'VB', 'DJ', 'OZ', 'EL', 'KT', 'XH', 'OD', 'XE', 'SE', 'FO', 'KW', 'GG', 'VR', 'VA', 'IF', 'ZW', 'SZ', 'UR', 'SW', 'RF', 'SG', 'VG', 'EB', 'FR', 'PJ', 'CQ', 'RB']\n",
      "153\n",
      "153\n",
      "Predicted time: 57221.40 seconds\n",
      "Actual time: 11710.80 seconds\n"
     ]
    }
   ],
   "source": [
    "route_id = routes[r_idx].route_id.unique()[0]\n",
    "route = routes[r_idx]\n",
    "\n",
    "node_positions = [idx_stops_list[r_idx][idx] for idx in pred_order.numpy()]\n",
    "actual_order = route.sort_values(by=\"order\")[\"stop_id\"].tolist()\n",
    "print(f\"Predicted order: {node_positions}\")\n",
    "print(f\"Actual order: {actual_order}\")\n",
    "\n",
    "print(len(node_positions))\n",
    "print(len(actual_order))\n",
    "\n",
    "predicted_time = calculate_time(route_id, node_positions)\n",
    "actual_time = calculate_time(route_id, actual_order)\n",
    "print(f\"Predicted time: {predicted_time:.2f} seconds\")\n",
    "print(f\"Actual time: {actual_time:.2f} seconds\")\n"
   ]
  },
  {
   "cell_type": "code",
   "execution_count": 97,
   "id": "0939411e",
   "metadata": {},
   "outputs": [
    {
     "name": "stdout",
     "output_type": "stream",
     "text": [
      "['A-8.2J', 'A-7.2J', 'A-8.3B', 'Depot', 'A-8.3G', 'A-8.2B', 'A-8.1J', 'A-8.2C', 'A-8.2D', 'A-8.2E', 'A-8.1G', 'A-8.3H', 'A-8.1E', 'A-8.3J', 'A-8.1H', 'A-7.3J', 'A-8.2G', 'A-8.2H', 'A-8.3C', 'A-8.3D', 'A-8.1C', 'A-8.3E', 'A-8.1D']\n",
      "['Depot', 'A-8.3G', 'A-7.2J', 'A-7.3J', 'A-8.3J', 'A-8.2J', 'A-8.1J', 'A-8.1H', 'A-8.2H', 'A-8.3H', 'A-8.2G', 'A-8.1G', 'A-8.1E', 'A-8.2E', 'A-8.3E', 'A-8.3D', 'A-8.2D', 'A-8.1D', 'A-8.3C', 'A-8.1C', 'A-8.2C', 'A-8.3B', 'A-8.2B']\n"
     ]
    }
   ],
   "source": [
    "zones = []\n",
    "true_zones = []\n",
    "all_zones = []\n",
    "\n",
    "for stop in node_positions:\n",
    "    zone = route[route[\"stop_id\"] == stop][\"zone_id\"].values[0]\n",
    "    all_zones.append(zone)\n",
    "    if zone not in zones:\n",
    "        zones.append(zone)\n",
    "\n",
    "for stop in actual_order:\n",
    "    zone = route[route[\"stop_id\"] == stop][\"zone_id\"].values[0]\n",
    "    if zone not in true_zones:\n",
    "        true_zones.append(zone)\n",
    "    \n",
    "print(zones)\n",
    "print(true_zones)"
   ]
  },
  {
   "cell_type": "code",
   "execution_count": 423,
   "id": "71649a57",
   "metadata": {},
   "outputs": [],
   "source": [
    "predicted_order = route[\"stop_id\"].apply(lambda x: str(node_positions.index(x)))\n",
    "str_order = route[\"order\"].apply(lambda x: str(x))\n",
    "\n",
    "df_plot = df[df[\"zone_id\"] == \"A-8.2D\"]\n",
    "str_order_all = df[\"order\"].apply(lambda x: str(x))"
   ]
  },
  {
   "cell_type": "code",
   "execution_count": 428,
   "id": "d712ff5f",
   "metadata": {},
   "outputs": [
    {
     "ename": "ShapeError",
     "evalue": "Expected object of length 30705, got length: 35",
     "output_type": "error",
     "traceback": [
      "\u001b[31m---------------------------------------------------------------------------\u001b[39m",
      "\u001b[31mShapeError\u001b[39m                                Traceback (most recent call last)",
      "\u001b[36mCell\u001b[39m\u001b[36m \u001b[39m\u001b[32mIn[428]\u001b[39m\u001b[32m, line 1\u001b[39m\n\u001b[32m----> \u001b[39m\u001b[32m1\u001b[39m fig = \u001b[43mpx\u001b[49m\u001b[43m.\u001b[49m\u001b[43mscatter_map\u001b[49m\u001b[43m(\u001b[49m\n\u001b[32m      2\u001b[39m \u001b[43m    \u001b[49m\u001b[43mdf_plot\u001b[49m\u001b[43m,\u001b[49m\n\u001b[32m      3\u001b[39m \u001b[43m    \u001b[49m\u001b[43mlat\u001b[49m\u001b[43m=\u001b[49m\u001b[33;43m\"\u001b[39;49m\u001b[33;43mlat\u001b[39;49m\u001b[33;43m\"\u001b[39;49m\u001b[43m,\u001b[49m\n\u001b[32m      4\u001b[39m \u001b[43m    \u001b[49m\u001b[43mlon\u001b[49m\u001b[43m=\u001b[49m\u001b[33;43m\"\u001b[39;49m\u001b[33;43mlng\u001b[39;49m\u001b[33;43m\"\u001b[39;49m\u001b[43m,\u001b[49m\n\u001b[32m      5\u001b[39m \u001b[43m    \u001b[49m\u001b[43mcolor\u001b[49m\u001b[43m=\u001b[49m\u001b[33;43m\"\u001b[39;49m\u001b[33;43mzone_id\u001b[39;49m\u001b[33;43m\"\u001b[39;49m\u001b[43m,\u001b[49m\n\u001b[32m      6\u001b[39m \u001b[43m    \u001b[49m\u001b[43mtext\u001b[49m\u001b[43m=\u001b[49m\u001b[43mstr_order_all\u001b[49m\u001b[43m,\u001b[49m\n\u001b[32m      7\u001b[39m \u001b[43m    \u001b[49m\u001b[38;5;66;43;03m# hover_name=predicted_order,\u001b[39;49;00m\n\u001b[32m      8\u001b[39m \u001b[43m    \u001b[49m\u001b[43mzoom\u001b[49m\u001b[43m=\u001b[49m\u001b[32;43m15\u001b[39;49m\u001b[43m,\u001b[49m\n\u001b[32m      9\u001b[39m \u001b[43m    \u001b[49m\u001b[43mheight\u001b[49m\u001b[43m=\u001b[49m\u001b[32;43m1000\u001b[39;49m\u001b[43m,\u001b[49m\n\u001b[32m     10\u001b[39m \u001b[43m)\u001b[49m\n\u001b[32m     12\u001b[39m fig.update_layout(mapbox_style=\u001b[33m\"\u001b[39m\u001b[33mcarto-positron\u001b[39m\u001b[33m\"\u001b[39m)\n\u001b[32m     13\u001b[39m fig.update_layout(margin={\u001b[33m\"\u001b[39m\u001b[33mr\u001b[39m\u001b[33m\"\u001b[39m:\u001b[32m0\u001b[39m,\u001b[33m\"\u001b[39m\u001b[33mt\u001b[39m\u001b[33m\"\u001b[39m:\u001b[32m0\u001b[39m,\u001b[33m\"\u001b[39m\u001b[33ml\u001b[39m\u001b[33m\"\u001b[39m:\u001b[32m0\u001b[39m,\u001b[33m\"\u001b[39m\u001b[33mb\u001b[39m\u001b[33m\"\u001b[39m:\u001b[32m0\u001b[39m})\n",
      "\u001b[36mFile \u001b[39m\u001b[32m~/.local/lib/python3.12/site-packages/plotly/express/_chart_types.py:1272\u001b[39m, in \u001b[36mscatter_map\u001b[39m\u001b[34m(data_frame, lat, lon, color, text, hover_name, hover_data, custom_data, size, animation_frame, animation_group, category_orders, labels, color_discrete_sequence, color_discrete_map, color_continuous_scale, range_color, color_continuous_midpoint, opacity, size_max, zoom, center, map_style, title, subtitle, template, width, height)\u001b[39m\n\u001b[32m   1238\u001b[39m \u001b[38;5;28;01mdef\u001b[39;00m\u001b[38;5;250m \u001b[39m\u001b[34mscatter_map\u001b[39m(\n\u001b[32m   1239\u001b[39m     data_frame=\u001b[38;5;28;01mNone\u001b[39;00m,\n\u001b[32m   1240\u001b[39m     lat=\u001b[38;5;28;01mNone\u001b[39;00m,\n\u001b[32m   (...)\u001b[39m\u001b[32m   1266\u001b[39m     height=\u001b[38;5;28;01mNone\u001b[39;00m,\n\u001b[32m   1267\u001b[39m ) -> go.Figure:\n\u001b[32m   1268\u001b[39m \u001b[38;5;250m    \u001b[39m\u001b[33;03m\"\"\"\u001b[39;00m\n\u001b[32m   1269\u001b[39m \u001b[33;03m    In a scatter map, each row of `data_frame` is represented by a\u001b[39;00m\n\u001b[32m   1270\u001b[39m \u001b[33;03m    symbol mark on the map.\u001b[39;00m\n\u001b[32m   1271\u001b[39m \u001b[33;03m    \"\"\"\u001b[39;00m\n\u001b[32m-> \u001b[39m\u001b[32m1272\u001b[39m     \u001b[38;5;28;01mreturn\u001b[39;00m \u001b[43mmake_figure\u001b[49m\u001b[43m(\u001b[49m\u001b[43margs\u001b[49m\u001b[43m=\u001b[49m\u001b[38;5;28;43mlocals\u001b[39;49m\u001b[43m(\u001b[49m\u001b[43m)\u001b[49m\u001b[43m,\u001b[49m\u001b[43m \u001b[49m\u001b[43mconstructor\u001b[49m\u001b[43m=\u001b[49m\u001b[43mgo\u001b[49m\u001b[43m.\u001b[49m\u001b[43mScattermap\u001b[49m\u001b[43m)\u001b[49m\n",
      "\u001b[36mFile \u001b[39m\u001b[32m~/.local/lib/python3.12/site-packages/plotly/express/_core.py:2479\u001b[39m, in \u001b[36mmake_figure\u001b[39m\u001b[34m(args, constructor, trace_patch, layout_patch)\u001b[39m\n\u001b[32m   2476\u001b[39m layout_patch = layout_patch \u001b[38;5;129;01mor\u001b[39;00m {}\n\u001b[32m   2477\u001b[39m apply_default_cascade(args)\n\u001b[32m-> \u001b[39m\u001b[32m2479\u001b[39m args = \u001b[43mbuild_dataframe\u001b[49m\u001b[43m(\u001b[49m\u001b[43margs\u001b[49m\u001b[43m,\u001b[49m\u001b[43m \u001b[49m\u001b[43mconstructor\u001b[49m\u001b[43m)\u001b[49m\n\u001b[32m   2480\u001b[39m \u001b[38;5;28;01mif\u001b[39;00m constructor \u001b[38;5;129;01min\u001b[39;00m [go.Treemap, go.Sunburst, go.Icicle] \u001b[38;5;129;01mand\u001b[39;00m args[\u001b[33m\"\u001b[39m\u001b[33mpath\u001b[39m\u001b[33m\"\u001b[39m] \u001b[38;5;129;01mis\u001b[39;00m \u001b[38;5;129;01mnot\u001b[39;00m \u001b[38;5;28;01mNone\u001b[39;00m:\n\u001b[32m   2481\u001b[39m     args = process_dataframe_hierarchy(args)\n",
      "\u001b[36mFile \u001b[39m\u001b[32m~/.local/lib/python3.12/site-packages/plotly/express/_core.py:1727\u001b[39m, in \u001b[36mbuild_dataframe\u001b[39m\u001b[34m(args, constructor)\u001b[39m\n\u001b[32m   1724\u001b[39m     args[\u001b[33m\"\u001b[39m\u001b[33mcolor\u001b[39m\u001b[33m\"\u001b[39m] = \u001b[38;5;28;01mNone\u001b[39;00m\n\u001b[32m   1725\u001b[39m \u001b[38;5;66;03m# now that things have been prepped, we do the systematic rewriting of `args`\u001b[39;00m\n\u001b[32m-> \u001b[39m\u001b[32m1727\u001b[39m df_output, wide_id_vars = \u001b[43mprocess_args_into_dataframe\u001b[49m\u001b[43m(\u001b[49m\n\u001b[32m   1728\u001b[39m \u001b[43m    \u001b[49m\u001b[43margs\u001b[49m\u001b[43m,\u001b[49m\n\u001b[32m   1729\u001b[39m \u001b[43m    \u001b[49m\u001b[43mwide_mode\u001b[49m\u001b[43m,\u001b[49m\n\u001b[32m   1730\u001b[39m \u001b[43m    \u001b[49m\u001b[43mvar_name\u001b[49m\u001b[43m,\u001b[49m\n\u001b[32m   1731\u001b[39m \u001b[43m    \u001b[49m\u001b[43mvalue_name\u001b[49m\u001b[43m,\u001b[49m\n\u001b[32m   1732\u001b[39m \u001b[43m    \u001b[49m\u001b[43mis_pd_like\u001b[49m\u001b[43m,\u001b[49m\n\u001b[32m   1733\u001b[39m \u001b[43m    \u001b[49m\u001b[43mnative_namespace\u001b[49m\u001b[43m,\u001b[49m\n\u001b[32m   1734\u001b[39m \u001b[43m\u001b[49m\u001b[43m)\u001b[49m\n\u001b[32m   1735\u001b[39m df_output: nw.DataFrame\n\u001b[32m   1736\u001b[39m \u001b[38;5;66;03m# now that `df_output` exists and `args` contains only references, we complete\u001b[39;00m\n\u001b[32m   1737\u001b[39m \u001b[38;5;66;03m# the special-case and wide-mode handling by further rewriting args and/or mutating\u001b[39;00m\n\u001b[32m   1738\u001b[39m \u001b[38;5;66;03m# df_output\u001b[39;00m\n",
      "\u001b[36mFile \u001b[39m\u001b[32m~/.local/lib/python3.12/site-packages/plotly/express/_core.py:1211\u001b[39m, in \u001b[36mprocess_args_into_dataframe\u001b[39m\u001b[34m(args, wide_mode, var_name, value_name, is_pd_like, native_namespace)\u001b[39m\n\u001b[32m   1209\u001b[39m ranges = []\n\u001b[32m   1210\u001b[39m wide_id_vars = \u001b[38;5;28mset\u001b[39m()\n\u001b[32m-> \u001b[39m\u001b[32m1211\u001b[39m reserved_names = \u001b[43m_get_reserved_col_names\u001b[49m\u001b[43m(\u001b[49m\u001b[43margs\u001b[49m\u001b[43m)\u001b[49m \u001b[38;5;28;01mif\u001b[39;00m df_provided \u001b[38;5;28;01melse\u001b[39;00m \u001b[38;5;28mset\u001b[39m()\n\u001b[32m   1213\u001b[39m \u001b[38;5;66;03m# Case of functions with a \"dimensions\" kw: scatter_matrix, parcats, parcoords\u001b[39;00m\n\u001b[32m   1214\u001b[39m \u001b[38;5;28;01mif\u001b[39;00m \u001b[33m\"\u001b[39m\u001b[33mdimensions\u001b[39m\u001b[33m\"\u001b[39m \u001b[38;5;129;01min\u001b[39;00m args \u001b[38;5;129;01mand\u001b[39;00m args[\u001b[33m\"\u001b[39m\u001b[33mdimensions\u001b[39m\u001b[33m\"\u001b[39m] \u001b[38;5;129;01mis\u001b[39;00m \u001b[38;5;28;01mNone\u001b[39;00m:\n",
      "\u001b[36mFile \u001b[39m\u001b[32m~/.local/lib/python3.12/site-packages/plotly/express/_core.py:1113\u001b[39m, in \u001b[36m_get_reserved_col_names\u001b[39m\u001b[34m(args)\u001b[39m\n\u001b[32m   1111\u001b[39m arg_name = arg_series.name\n\u001b[32m   1112\u001b[39m \u001b[38;5;28;01mif\u001b[39;00m arg_name \u001b[38;5;129;01mand\u001b[39;00m arg_name \u001b[38;5;129;01min\u001b[39;00m df.columns:\n\u001b[32m-> \u001b[39m\u001b[32m1113\u001b[39m     in_df = (\u001b[43marg_series\u001b[49m\u001b[43m \u001b[49m\u001b[43m==\u001b[49m\u001b[43m \u001b[49m\u001b[43mdf\u001b[49m\u001b[43m.\u001b[49m\u001b[43mget_column\u001b[49m\u001b[43m(\u001b[49m\u001b[43marg_name\u001b[49m\u001b[43m)\u001b[49m).all()\n\u001b[32m   1114\u001b[39m     \u001b[38;5;28;01mif\u001b[39;00m in_df:\n\u001b[32m   1115\u001b[39m         reserved_names.add(arg_name)\n",
      "\u001b[36mFile \u001b[39m\u001b[32m~/.local/lib/python3.12/site-packages/narwhals/series.py:1549\u001b[39m, in \u001b[36mSeries.__eq__\u001b[39m\u001b[34m(self, other)\u001b[39m\n\u001b[32m   1547\u001b[39m \u001b[38;5;28;01mdef\u001b[39;00m\u001b[38;5;250m \u001b[39m\u001b[34m__eq__\u001b[39m(\u001b[38;5;28mself\u001b[39m, other: \u001b[38;5;28mobject\u001b[39m) -> Self:  \u001b[38;5;66;03m# type: ignore[override]\u001b[39;00m\n\u001b[32m   1548\u001b[39m     \u001b[38;5;28;01mreturn\u001b[39;00m \u001b[38;5;28mself\u001b[39m._with_compliant(\n\u001b[32m-> \u001b[39m\u001b[32m1549\u001b[39m         \u001b[38;5;28;43mself\u001b[39;49m\u001b[43m.\u001b[49m\u001b[43m_compliant_series\u001b[49m\u001b[43m.\u001b[49m\u001b[34;43m__eq__\u001b[39;49m\u001b[43m(\u001b[49m\u001b[38;5;28;43mself\u001b[39;49m\u001b[43m.\u001b[49m\u001b[43m_extract_native\u001b[49m\u001b[43m(\u001b[49m\u001b[43mother\u001b[49m\u001b[43m)\u001b[49m\u001b[43m)\u001b[49m\n\u001b[32m   1550\u001b[39m     )\n",
      "\u001b[36mFile \u001b[39m\u001b[32m~/.local/lib/python3.12/site-packages/narwhals/_pandas_like/series.py:385\u001b[39m, in \u001b[36mPandasLikeSeries.__eq__\u001b[39m\u001b[34m(self, other)\u001b[39m\n\u001b[32m    384\u001b[39m \u001b[38;5;28;01mdef\u001b[39;00m\u001b[38;5;250m \u001b[39m\u001b[34m__eq__\u001b[39m(\u001b[38;5;28mself\u001b[39m, other: \u001b[38;5;28mobject\u001b[39m) -> PandasLikeSeries:  \u001b[38;5;66;03m# type: ignore[override]\u001b[39;00m\n\u001b[32m--> \u001b[39m\u001b[32m385\u001b[39m     ser, other = \u001b[43malign_and_extract_native\u001b[49m\u001b[43m(\u001b[49m\u001b[38;5;28;43mself\u001b[39;49m\u001b[43m,\u001b[49m\u001b[43m \u001b[49m\u001b[43mother\u001b[49m\u001b[43m)\u001b[49m\n\u001b[32m    386\u001b[39m     \u001b[38;5;28;01mreturn\u001b[39;00m \u001b[38;5;28mself\u001b[39m._with_native(ser == other).alias(\u001b[38;5;28mself\u001b[39m.name)\n",
      "\u001b[36mFile \u001b[39m\u001b[32m~/.local/lib/python3.12/site-packages/narwhals/_pandas_like/utils.py:118\u001b[39m, in \u001b[36malign_and_extract_native\u001b[39m\u001b[34m(lhs, rhs)\u001b[39m\n\u001b[32m    114\u001b[39m         \u001b[38;5;28;01mreturn\u001b[39;00m (lhs.native, rhs.native.iloc[\u001b[32m0\u001b[39m])\n\u001b[32m    115\u001b[39m     \u001b[38;5;28;01mif\u001b[39;00m rhs.native.index \u001b[38;5;129;01mis\u001b[39;00m \u001b[38;5;129;01mnot\u001b[39;00m lhs_index:\n\u001b[32m    116\u001b[39m         \u001b[38;5;28;01mreturn\u001b[39;00m (\n\u001b[32m    117\u001b[39m             lhs.native,\n\u001b[32m--> \u001b[39m\u001b[32m118\u001b[39m             \u001b[43mset_index\u001b[49m\u001b[43m(\u001b[49m\n\u001b[32m    119\u001b[39m \u001b[43m                \u001b[49m\u001b[43mrhs\u001b[49m\u001b[43m.\u001b[49m\u001b[43mnative\u001b[49m\u001b[43m,\u001b[49m\n\u001b[32m    120\u001b[39m \u001b[43m                \u001b[49m\u001b[43mlhs_index\u001b[49m\u001b[43m,\u001b[49m\n\u001b[32m    121\u001b[39m \u001b[43m                \u001b[49m\u001b[43mimplementation\u001b[49m\u001b[43m=\u001b[49m\u001b[43mrhs\u001b[49m\u001b[43m.\u001b[49m\u001b[43m_implementation\u001b[49m\u001b[43m,\u001b[49m\n\u001b[32m    122\u001b[39m \u001b[43m                \u001b[49m\u001b[43mbackend_version\u001b[49m\u001b[43m=\u001b[49m\u001b[43mrhs\u001b[49m\u001b[43m.\u001b[49m\u001b[43m_backend_version\u001b[49m\u001b[43m,\u001b[49m\n\u001b[32m    123\u001b[39m \u001b[43m            \u001b[49m\u001b[43m)\u001b[49m,\n\u001b[32m    124\u001b[39m         )\n\u001b[32m    125\u001b[39m     \u001b[38;5;28;01mreturn\u001b[39;00m (lhs.native, rhs.native)\n\u001b[32m    127\u001b[39m \u001b[38;5;28;01mif\u001b[39;00m \u001b[38;5;28misinstance\u001b[39m(rhs, \u001b[38;5;28mlist\u001b[39m):\n",
      "\u001b[36mFile \u001b[39m\u001b[32m~/.local/lib/python3.12/site-packages/narwhals/_pandas_like/utils.py:149\u001b[39m, in \u001b[36mset_index\u001b[39m\u001b[34m(obj, index, implementation, backend_version)\u001b[39m\n\u001b[32m    145\u001b[39m \u001b[38;5;28;01mif\u001b[39;00m \u001b[38;5;28misinstance\u001b[39m(index, implementation.to_native_namespace().Index) \u001b[38;5;129;01mand\u001b[39;00m (\n\u001b[32m    146\u001b[39m     expected_len := \u001b[38;5;28mlen\u001b[39m(index)\n\u001b[32m    147\u001b[39m ) != (actual_len := \u001b[38;5;28mlen\u001b[39m(obj)):\n\u001b[32m    148\u001b[39m     msg = \u001b[33mf\u001b[39m\u001b[33m\"\u001b[39m\u001b[33mExpected object of length \u001b[39m\u001b[38;5;132;01m{\u001b[39;00mexpected_len\u001b[38;5;132;01m}\u001b[39;00m\u001b[33m, got length: \u001b[39m\u001b[38;5;132;01m{\u001b[39;00mactual_len\u001b[38;5;132;01m}\u001b[39;00m\u001b[33m\"\u001b[39m\n\u001b[32m--> \u001b[39m\u001b[32m149\u001b[39m     \u001b[38;5;28;01mraise\u001b[39;00m ShapeError(msg)\n\u001b[32m    150\u001b[39m \u001b[38;5;28;01mif\u001b[39;00m implementation \u001b[38;5;129;01mis\u001b[39;00m Implementation.CUDF:  \u001b[38;5;66;03m# pragma: no cover\u001b[39;00m\n\u001b[32m    151\u001b[39m     obj = obj.copy(deep=\u001b[38;5;28;01mFalse\u001b[39;00m)  \u001b[38;5;66;03m# type: ignore[attr-defined]\u001b[39;00m\n",
      "\u001b[31mShapeError\u001b[39m: Expected object of length 30705, got length: 35"
     ]
    }
   ],
   "source": [
    "fig = px.scatter_map(\n",
    "    df_plot,\n",
    "    lat=\"lat\",\n",
    "    lon=\"lng\",\n",
    "    color=\"zone_id\",\n",
    "    text=str_order_all,\n",
    "    # hover_name=predicted_order,\n",
    "    zoom=15,\n",
    "    height=1000,\n",
    ")\n",
    "\n",
    "fig.update_layout(mapbox_style=\"carto-positron\")\n",
    "fig.update_layout(margin={\"r\":0,\"t\":0,\"l\":0,\"b\":0})\n",
    "fig.update_traces(marker=dict(size=20))\n",
    "fig.update_traces(textposition='middle center', textfont_size=8)\n",
    "\n",
    "fig.show(config={\"scrollZoom\": True})"
   ]
  },
  {
   "cell_type": "code",
   "execution_count": 386,
   "id": "43579497",
   "metadata": {},
   "outputs": [
    {
     "name": "stdout",
     "output_type": "stream",
     "text": [
      "Mean difference: 11188.88 seconds\n",
      "Min difference: 4494.70 seconds\n",
      "Max difference: 25934.00 seconds\n",
      "Position with max difference: 102\n"
     ]
    },
    {
     "data": {
      "text/plain": [
       "[<matplotlib.lines.Line2D at 0x7f17f505d700>]"
      ]
     },
     "execution_count": 386,
     "metadata": {},
     "output_type": "execute_result"
    },
    {
     "data": {
      "image/png": "[encoded data removed]",
      "text/plain": [
       "<Figure size 640x480 with 1 Axes>"
      ]
     },
     "metadata": {},
     "output_type": "display_data"
    }
   ],
   "source": [
    "difs = np.zeros(200)\n",
    "\n",
    "for i in range(200):\n",
    "    pred = model(graph_list[i])\n",
    "    pred = tf.squeeze(pred, -1)\n",
    "    pred_order = tf.argsort(pred, direction=\"DESCENDING\")\n",
    "\n",
    "    route_id = routes[i].route_id.unique()[0]\n",
    "    route = routes[i]\n",
    "\n",
    "    node_positions = [idx_stops_list[i][idx] for idx in pred_order.numpy()]\n",
    "    actual_order = route.sort_values(by=\"order\")[\"stop_id\"].tolist()\n",
    "\n",
    "    predicted_time = calculate_time(route_id, node_positions)\n",
    "    actual_time = calculate_time(route_id, actual_order)\n",
    "\n",
    "    dif = predicted_time - actual_time\n",
    "    difs[i] = dif\n",
    "    \n",
    "print(f\"Mean difference: {np.mean(difs):.2f} seconds\")\n",
    "print(f\"Min difference: {np.min(difs):.2f} seconds\")\n",
    "print(f\"Max difference: {np.max(difs):.2f} seconds\")\n",
    "\n",
    "print(\"Position with max difference:\", np.argmax(difs))\n",
    "\n",
    "plt.plot(difs)"
   ]
  },
  {
   "cell_type": "markdown",
   "id": "4f3b30d7",
   "metadata": {},
   "source": [
    "With Dense:\n",
    "\n",
    "Mean difference: 11146.79 seconds\n",
    "\n",
    "Min difference: 4845.70 seconds\n",
    "\n",
    "Max difference: 26084.90 seconds\n",
    "\n",
    "Position with max difference: 102"
   ]
  },
  {
   "cell_type": "code",
   "execution_count": 207,
   "id": "f6bb4515",
   "metadata": {},
   "outputs": [
    {
     "name": "stdout",
     "output_type": "stream",
     "text": [
      "INFO:tensorflow:Assets written to: /tmp/tmp3qkuo5of/assets\n"
     ]
    },
    {
     "name": "stderr",
     "output_type": "stream",
     "text": [
      "/home/coder/.local/lib/python3.12/site-packages/tensorflow/python/saved_model/nested_structure_coder.py:458: UserWarning: Encoding a StructuredValue with type tensorflow_gnn.GraphTensorSpec; loading this StructuredValue will require that this type be imported and registered.\n",
      "  warnings.warn(\"Encoding a StructuredValue with type %s; loading this \"\n",
      "/home/coder/.local/lib/python3.12/site-packages/tensorflow/python/saved_model/nested_structure_coder.py:458: UserWarning: Encoding a StructuredValue with type tensorflow_gnn.ContextSpec.v2; loading this StructuredValue will require that this type be imported and registered.\n",
      "  warnings.warn(\"Encoding a StructuredValue with type %s; loading this \"\n",
      "/home/coder/.local/lib/python3.12/site-packages/tensorflow/python/saved_model/nested_structure_coder.py:458: UserWarning: Encoding a StructuredValue with type tensorflow_gnn.NodeSetSpec; loading this StructuredValue will require that this type be imported and registered.\n",
      "  warnings.warn(\"Encoding a StructuredValue with type %s; loading this \"\n",
      "/home/coder/.local/lib/python3.12/site-packages/tensorflow/python/saved_model/nested_structure_coder.py:458: UserWarning: Encoding a StructuredValue with type tensorflow_gnn.EdgeSetSpec; loading this StructuredValue will require that this type be imported and registered.\n",
      "  warnings.warn(\"Encoding a StructuredValue with type %s; loading this \"\n",
      "/home/coder/.local/lib/python3.12/site-packages/tensorflow/python/saved_model/nested_structure_coder.py:458: UserWarning: Encoding a StructuredValue with type tensorflow_gnn.AdjacencySpec; loading this StructuredValue will require that this type be imported and registered.\n",
      "  warnings.warn(\"Encoding a StructuredValue with type %s; loading this \"\n",
      "INFO:tensorflow:Assets written to: /tmp/tmp3qkuo5of/assets\n",
      "W0000 00:00:1746524266.612120   48795 tf_tfl_flatbuffer_helpers.cc:365] Ignored output_format.\n",
      "W0000 00:00:1746524266.612148   48795 tf_tfl_flatbuffer_helpers.cc:368] Ignored drop_control_dependency.\n"
     ]
    }
   ],
   "source": [
    "converter = tf.lite.TFLiteConverter.from_keras_model(model)\n",
    "converter.optimizations = [tf.lite.Optimize.DEFAULT]\n",
    "converter.target_spec.supported_ops = [\n",
    "    tf.lite.OpsSet.TFLITE_BUILTINS,\n",
    "    tf.lite.OpsSet.SELECT_TF_OPS,\n",
    "]\n",
    "\n",
    "tflit_model = converter.convert()\n",
    "with open(\"model.tflite\", \"wb\") as f:\n",
    "    f.write(tflit_model)"
   ]
  },
  {
   "cell_type": "markdown",
   "id": "460ff265",
   "metadata": {},
   "source": [
    "# Tests"
   ]
  }
 ],
 "metadata": {
  "kernelspec": {
   "display_name": "Python 3",
   "language": "python",
   "name": "python3"
  },
  "language_info": {
   "codemirror_mode": {
    "name": "ipython",
    "version": 3
   },
   "file_extension": ".py",
   "mimetype": "text/x-python",
   "name": "python",
   "nbconvert_exporter": "python",
   "pygments_lexer": "ipython3",
   "version": "3.12.3"
  }
 },
 "nbformat": 4,
 "nbformat_minor": 5
}
