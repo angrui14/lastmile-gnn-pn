{
 "cells": [
  {
   "cell_type": "markdown",
   "id": "efd43485",
   "metadata": {},
   "source": [
    "# Imports"
   ]
  },
  {
   "cell_type": "code",
   "execution_count": 1,
   "id": "8644bd8f",
   "metadata": {},
   "outputs": [],
   "source": [
    "import torch\n",
    "from torch import nn\n",
    "import torch.nn.functional as F\n",
    "from torch.utils.data import random_split\n",
    "from torch_geometric.data import Data, Batch, Dataset\n",
    "from torch_geometric.loader import DataLoader\n",
    "from torch_geometric.nn import GCNConv, NNConv, MessagePassing, GATv2Conv, TransformerConv\n",
    "from torch_geometric.utils import to_networkx"
   ]
  },
  {
   "cell_type": "code",
   "execution_count": 2,
   "id": "d23c1f79",
   "metadata": {},
   "outputs": [],
   "source": [
    "import pandas as pd\n",
    "import numpy as np\n",
    "import itertools\n",
    "import json\n",
    "import math\n",
    "import random\n",
    "import time\n",
    "import os\n",
    "import seaborn as sns\n",
    "import matplotlib.pyplot as plt\n",
    "import networkx as nx\n",
    "from geopy.distance import geodesic\n",
    "from tqdm import tqdm\n",
    "from sklearn.cluster import DBSCAN\n",
    "from sklearn.preprocessing import LabelEncoder\n",
    "from pyproj import Transformer\n"
   ]
  },
  {
   "cell_type": "code",
   "execution_count": 3,
   "id": "e993df8b",
   "metadata": {},
   "outputs": [],
   "source": [
    "import importlib\n",
    "import PyTorch_GNN.utils as utils"
   ]
  },
  {
   "cell_type": "code",
   "execution_count": 4,
   "id": "a8551a37",
   "metadata": {},
   "outputs": [
    {
     "data": {
      "text/plain": [
       "<torch.autograd.anomaly_mode.set_detect_anomaly at 0x7d96f7b923f0>"
      ]
     },
     "execution_count": 4,
     "metadata": {},
     "output_type": "execute_result"
    }
   ],
   "source": [
    "torch.manual_seed(42)\n",
    "random.seed(42)\n",
    "np.random.seed(42)\n",
    "\n",
    "torch.cuda.manual_seed_all(42)\n",
    "torch.backends.cudnn.deterministic = True\n",
    "torch.backends.cudnn.benchmark = False\n",
    "\n",
    "torch.autograd.set_detect_anomaly(True)"
   ]
  },
  {
   "cell_type": "markdown",
   "id": "24af7724",
   "metadata": {},
   "source": [
    "# Load data"
   ]
  },
  {
   "cell_type": "code",
   "execution_count": 5,
   "id": "841f5149",
   "metadata": {},
   "outputs": [],
   "source": [
    "path = 'almrrc2021/almrrc2021-data-training/model_build_inputs/'"
   ]
  },
  {
   "cell_type": "code",
   "execution_count": 6,
   "id": "cfc8ade9",
   "metadata": {},
   "outputs": [],
   "source": [
    "with open(path + 'route_data.json') as f:\n",
    "  routes = json.load(f)"
   ]
  },
  {
   "cell_type": "code",
   "execution_count": 7,
   "id": "0ad3efd1",
   "metadata": {},
   "outputs": [],
   "source": [
    "with open(path + 'actual_sequences.json') as f:\n",
    "  actual = json.load(f)"
   ]
  },
  {
   "cell_type": "code",
   "execution_count": 8,
   "id": "0253b7fc",
   "metadata": {},
   "outputs": [],
   "source": [
    "with open(path + 'package_data.json') as f:\n",
    "  package_json = json.load(f)"
   ]
  },
  {
   "cell_type": "code",
   "execution_count": 9,
   "id": "764d4e11",
   "metadata": {},
   "outputs": [],
   "source": [
    "with open(path + 'travel_times.json') as f:\n",
    "  times = json.load(f)"
   ]
  },
  {
   "cell_type": "code",
   "execution_count": 15,
   "id": "92579f62",
   "metadata": {},
   "outputs": [],
   "source": [
    "# actual"
   ]
  },
  {
   "cell_type": "code",
   "execution_count": 12,
   "id": "32c6ebb3",
   "metadata": {},
   "outputs": [],
   "source": [
    "# rows = []\n",
    "\n",
    "# for route_id, route_info in routes.items():\n",
    "#   general_info = {\n",
    "#     \"route_id\": route_id,\n",
    "#     \"station_code\": route_info[\"station_code\"],\n",
    "#     \"date\": route_info[\"date_YYYY_MM_DD\"],\n",
    "#     \"departure_time_utc\": route_info[\"departure_time_utc\"],\n",
    "#     \"executor_capacity_cm3\": route_info[\"executor_capacity_cm3\"],\n",
    "#     \"route_score\": route_info[\"route_score\"],\n",
    "#   }\n",
    "\n",
    "#   stops = route_info.get(\"stops\", {})\n",
    "#   for stop_id, stop_info in stops.items():\n",
    "#     row = {\n",
    "#       **general_info,\n",
    "#       \"stop_id\": stop_id,\n",
    "#       \"lat\": stop_info[\"lat\"],\n",
    "#       \"lng\": stop_info[\"lng\"],\n",
    "#       \"type\": stop_info[\"type\"],\n",
    "#       \"zone_id\": stop_info[\"zone_id\"],\n",
    "#     }\n",
    "#     rows.append(row)\n",
    "\n",
    "# df = pd.DataFrame(rows)\n",
    "\n",
    "# df = df[df[\"route_score\"] != \"Low\"]"
   ]
  },
  {
   "cell_type": "code",
   "execution_count": 13,
   "id": "be0b533e",
   "metadata": {},
   "outputs": [],
   "source": [
    "# routes_dict = {}\n",
    "\n",
    "# for route, data in df.groupby(\"route_id\"):\n",
    "#   routes_dict[route] = {\n",
    "#       \"lat\": data[\"lat\"].mean().item(),\n",
    "#       \"lng\": data[\"lng\"].mean().item()\n",
    "#   }\n",
    "\n",
    "\n",
    "# routes_df = pd.DataFrame(routes_dict).T\n",
    "\n",
    "# coords = routes_df[[\"lat\", \"lng\"]].to_numpy()\n",
    "\n",
    "# db = DBSCAN(eps=0.01, min_samples=5, metric='haversine').fit(np.radians(coords))\n",
    "# routes_df[\"cluster\"] = db.labels_\n",
    "# routes_df = routes_df.reset_index().rename(columns={\"index\": \"route_id\"})\n",
    "\n",
    "# df = df.merge(routes_df[[\"route_id\", \"cluster\"]], on=\"route_id\", how=\"left\")\n",
    "# df = df[df[\"cluster\"] == 0]"
   ]
  },
  {
   "cell_type": "code",
   "execution_count": 14,
   "id": "9f4cc470",
   "metadata": {},
   "outputs": [],
   "source": [
    "# actual_routes_list = []\n",
    "\n",
    "# for route_id in df[\"route_id\"].unique():\n",
    "#     actual_df = pd.DataFrame(actual[route_id])\n",
    "#     actual_df[\"route_id\"] = route_id\n",
    "#     actual_df = actual_df.reset_index().rename(columns={\"index\": \"stop_id\", \"actual\": \"order\"})\n",
    "#     actual_df[\"is_start\"] = actual_df[\"order\"].apply(lambda x: True if x == 0 else False)\n",
    "#     actual_routes_list.append(actual_df[[\"route_id\", \"stop_id\", \"order\", \"is_start\"]])\n",
    "\n",
    "# actual_routes = pd.concat(actual_routes_list, ignore_index=True)\n",
    "# df = df.merge(actual_routes, on=[\"route_id\", \"stop_id\"], how=\"left\")"
   ]
  },
  {
   "cell_type": "code",
   "execution_count": 15,
   "id": "61da1428",
   "metadata": {},
   "outputs": [],
   "source": [
    "# df.loc[pd.isna(df[\"zone_id\"]) & (df[\"order\"] == 0), \"zone_id\"] = \"Depot\"\n",
    "# df[\"zone_id\"] = df[\"zone_id\"].fillna(\"Unknown\")"
   ]
  },
  {
   "cell_type": "code",
   "execution_count": 16,
   "id": "6f451022",
   "metadata": {},
   "outputs": [],
   "source": [
    "# package_df = pd.DataFrame(package_json)\n",
    "# package_df = package_df.reset_index().rename(columns={\"index\": \"stop_id\"})\n",
    "# rows = []\n",
    "# for route in df[\"route_id\"].unique():\n",
    "#     route_packages = package_df[[\"stop_id\", route]].dropna()\n",
    "#     route_packages = route_packages.set_index(\"stop_id\")\n",
    "#     for stop, package in route_packages.iterrows():\n",
    "#         p = package.values[0]\n",
    "#         package_info = list(p.values())\n",
    "#         if len(package_info) > 0:\n",
    "#             rows.append({\n",
    "#                 \"route_id\": route,\n",
    "#                 \"stop_id\": stop,\n",
    "#                 \"planned_time\": package_info[0][\"planned_service_time_seconds\"],\n",
    "#             })\n",
    "\n",
    "# pdf = pd.DataFrame(rows)\n",
    "\n",
    "# df = df.merge(pdf, on=[\"route_id\", \"stop_id\"], how=\"left\")"
   ]
  },
  {
   "cell_type": "code",
   "execution_count": 17,
   "id": "155dfc41",
   "metadata": {},
   "outputs": [],
   "source": [
    "# df[\"planned_time\"] = df[\"planned_time\"].fillna(0.0)"
   ]
  },
  {
   "cell_type": "code",
   "execution_count": 18,
   "id": "1da3c8c8",
   "metadata": {},
   "outputs": [],
   "source": [
    "# grouped = df.groupby(by=\"route_id\")"
   ]
  },
  {
   "cell_type": "code",
   "execution_count": 19,
   "id": "0467ec74",
   "metadata": {},
   "outputs": [],
   "source": [
    "# df.to_parquet(\"df_la.parquet\")"
   ]
  },
  {
   "cell_type": "code",
   "execution_count": 10,
   "id": "c42f3129",
   "metadata": {},
   "outputs": [],
   "source": [
    "df = pd.read_parquet(\"df_la.parquet\")\n",
    "grouped = df.groupby(by=\"route_id\")"
   ]
  },
  {
   "cell_type": "markdown",
   "id": "bb3fef9e",
   "metadata": {},
   "source": [
    "# Create dataset"
   ]
  },
  {
   "cell_type": "code",
   "execution_count": 11,
   "id": "faf0202e",
   "metadata": {},
   "outputs": [],
   "source": [
    "def calculate_time_old(id_route, stop_list):\n",
    "    total_time = 0\n",
    "    for stop in stop_list[:-1]:\n",
    "        total_time += times[id_route][stop][stop_list[stop_list.index(stop) + 1]]\n",
    "    return total_time\n",
    "\n",
    "def calculate_time(id_route, stop_list):\n",
    "    total_time = 0\n",
    "    for src, tgt in zip(stop_list[:-1], stop_list[1:]):\n",
    "        total_time += times[id_route][src][tgt]\n",
    "    return total_time"
   ]
  },
  {
   "cell_type": "code",
   "execution_count": 19,
   "id": "21933762",
   "metadata": {},
   "outputs": [
    {
     "name": "stdout",
     "output_type": "stream",
     "text": [
      "Graphs loaded from file\n"
     ]
    },
    {
     "name": "stderr",
     "output_type": "stream",
     "text": [
      "Processing routes: 100%|██████████| 2831/2831 [00:00<00:00, 32952.60it/s]\n"
     ]
    }
   ],
   "source": [
    "importlib.reload(utils)\n",
    "\n",
    "stops_idx = {}\n",
    "avoid_creating = False\n",
    "\n",
    "file = \"PyTorch_GNN/graph_lists/graph_list_improved.pt\"\n",
    "\n",
    "if os.path.exists(file):\n",
    "        graph_list = torch.load(file, weights_only=False)\n",
    "        avoid_creating = True\n",
    "        print(\"Graphs loaded from file\")\n",
    "else:\n",
    "    graph_list = []\n",
    "\n",
    "# graph_list = []\n",
    "\n",
    "all_zones = df[\"zone_id\"].unique().tolist()\n",
    "\n",
    "zone_encoder = LabelEncoder()\n",
    "zone_embedding = nn.Embedding(num_embeddings=len(all_zones), embedding_dim=32)\n",
    "\n",
    "zone_encoder = LabelEncoder()\n",
    "zone_encoder.fit(all_zones)\n",
    "\n",
    "zone_coords = utils.calculate_zone_coords(df)\n",
    "zone_embedding = utils.init_zone_embeddings(zone_encoder, zone_coords)\n",
    "\n",
    "transformer = Transformer.from_crs(\"EPSG:4326\", \"EPSG:3857\", always_xy=True)\n",
    "\n",
    "\n",
    "for route_id, route in tqdm(grouped, desc=\"Processing routes\"):\n",
    "    stops_idx[route_id] = {i : stop for i, stop in enumerate(route.stop_id)}\n",
    "    if avoid_creating:\n",
    "        continue\n",
    "    \n",
    "    idx_stops = {stop: i for i, stop in enumerate(route.stop_id)}\n",
    "\n",
    "    centroid_lat, centroid_lng = utils.calculate_route_centroid(route)\n",
    "    centroid_x, centroid_y = transformer.transform(centroid_lng, centroid_lat)\n",
    "    centroid = torch.tensor([centroid_x, centroid_y], dtype=torch.float)\n",
    "\n",
    "    coords = torch.tensor(route[[\"lat\", \"lng\"]].values, dtype=torch.float)\n",
    "    coords_zs = utils.zscore(coords)\n",
    "    positional_encodings = utils.positional_encoding(coords_zs)\n",
    "    pe_tensor = torch.tensor(positional_encodings, dtype=torch.float)\n",
    "\n",
    "    zone_ids = zone_encoder.transform(route[\"zone_id\"])\n",
    "    zone_ids = torch.tensor(zone_ids, dtype=torch.long)\n",
    "    with torch.no_grad():\n",
    "        zone_vectors = zone_embedding(zone_ids)\n",
    "\n",
    "    lats = coords[:, 0].numpy()\n",
    "    lngs = coords[:, 1].numpy()\n",
    "\n",
    "    xs, ys = transformer.transform(lngs, lats)\n",
    "    xy_coords = torch.tensor(list(zip(xs, ys)), dtype=torch.float)\n",
    "\n",
    "    dist_to_centroid = torch.norm(xy_coords - centroid, dim=1).unsqueeze(1)\n",
    "\n",
    "    # planned_time = torch.tensor(route[\"planned_time\"].values, dtype=torch.float).unsqueeze(1)\n",
    "    # time_zs = utils.zscore(planned_time)\n",
    "\n",
    "    x = torch.cat([coords, pe_tensor, zone_vectors, dist_to_centroid], dim=1)\n",
    "\n",
    "    edges = []\n",
    "    edge_weights = []\n",
    "\n",
    "    coords_dict = route.set_index(\"stop_id\")[[\"lat\", \"lng\"]].to_dict(\"index\")\n",
    "\n",
    "    projected_coords = {\n",
    "        stop_id: transformer.transform(stop[\"lng\"], stop[\"lat\"])\n",
    "        for stop_id, stop in coords_dict.items()\n",
    "    }\n",
    "\n",
    "    dist_extremes_list = []\n",
    "    cosine_sims_list = []\n",
    "    sims = []\n",
    "    for i, stop in enumerate(route.stop_id):\n",
    "        d = times[route_id][stop]\n",
    "        sorted_d = dict(sorted(d.items(), key=lambda item: item[1])) # Sort stops by distance\n",
    "        top_d = dict(list(sorted_d.items())[1:51]) # Maintain the N closest stops, excluding the autoreference\n",
    "        min_dist = min(top_d.values())\n",
    "        max_dist = max(top_d.values())\n",
    "        dist_extremes_list.append([min_dist, max_dist])\n",
    "        for stop2 in top_d.keys():\n",
    "            if stop != stop2:\n",
    "                j_idx = idx_stops[stop2]\n",
    "                sim = F.cosine_similarity(x[i], x[j_idx], dim=0)\n",
    "                sims.append(sim.item())\n",
    "                edges.append([i, idx_stops[stop2]])\n",
    "                x1, y1 = projected_coords[stop]\n",
    "                x2, y2 = projected_coords[stop2]\n",
    "                dist = np.hypot(x2 - x1, y2 - y1)  # Distance between stops              \n",
    "                edge_weights.append([top_d[stop2], dist])\n",
    "        mean_sim = np.mean(sims)\n",
    "        std_sim = np.std(sims)\n",
    "        cosine_sims_list.append([mean_sim, std_sim])\n",
    "\n",
    "\n",
    "    dist_extremes_tensor = torch.tensor(dist_extremes_list, dtype=torch.float)\n",
    "    x = torch.cat([x, dist_extremes_tensor], dim=1)\n",
    "\n",
    "    cosine_sims_tensor = torch.tensor(cosine_sims_list, dtype=torch.float)\n",
    "    x = torch.cat([x, cosine_sims_tensor], dim=1)\n",
    "\n",
    "    edge_index = torch.tensor(edges, dtype=torch.long).t().contiguous()\n",
    "    edge_attr = torch.tensor(edge_weights, dtype=torch.float)\n",
    "\n",
    "    start = route[route[\"order\"] == 0][\"stop_id\"].values[0]\n",
    "    start = idx_stops[start]\n",
    "\n",
    "    graph_list.append(Data(x=x, edge_index=edge_index, edge_attr=edge_attr, route_id=route_id, start_node=start))\n"
   ]
  },
  {
   "cell_type": "code",
   "execution_count": 18,
   "id": "13b9e56b",
   "metadata": {},
   "outputs": [
    {
     "data": {
      "text/plain": [
       "torch.Size([119, 40])"
      ]
     },
     "execution_count": 18,
     "metadata": {},
     "output_type": "execute_result"
    }
   ],
   "source": [
    "graph_list[0].x.shape"
   ]
  },
  {
   "cell_type": "code",
   "execution_count": 27,
   "id": "5a95ea9e",
   "metadata": {},
   "outputs": [
    {
     "name": "stdout",
     "output_type": "stream",
     "text": [
      "tensor(0.4496) tensor(0.4220)\n",
      "Unique similarity values: tensor([0.0000, 0.1000, 0.5000, 0.6000, 0.7000, 0.8000, 0.9000, 1.0000])\n"
     ]
    },
    {
     "data": {
      "image/png": "[encoded data removed]",
      "text/plain": [
       "<Figure size 640x480 with 2 Axes>"
      ]
     },
     "metadata": {},
     "output_type": "display_data"
    }
   ],
   "source": [
    "import PyTorch_GNN.GNNEncoder\n",
    "importlib.reload(PyTorch_GNN.GNNEncoder)\n",
    "\n",
    "gnn = PyTorch_GNN.GNNEncoder.GNN(node_features=29, edge_features=2, hidden_channels=128, heads=4)\n",
    "\n",
    "gnn.eval()\n",
    "\n",
    "with torch.no_grad():\n",
    "    data = graph_list[0]\n",
    "    node_embeddings = gnn(data.x, data.edge_index, data.edge_attr, data.batch)\n",
    "    cos_sim_matrix = torch.nn.functional.cosine_similarity(\n",
    "        node_embeddings.unsqueeze(1),\n",
    "        node_embeddings.unsqueeze(0),\n",
    "        dim=-1\n",
    "    )\n",
    "\n",
    "print(cos_sim_matrix.mean(), cos_sim_matrix.std())\n",
    "\n",
    "cos_similarities = torch.cosine_similarity(node_embeddings.unsqueeze(1), node_embeddings.unsqueeze(0), dim=2)\n",
    "unique_vals = torch.unique(cos_similarities.round(decimals=1))\n",
    "print(f\"Unique similarity values: {unique_vals}\")\n",
    "\n",
    "sns.heatmap(cos_sim_matrix.cpu().numpy(), cmap=\"hot\")\n",
    "plt.title(\"Cosine similarity between node embeddings\")\n",
    "plt.show()"
   ]
  },
  {
   "cell_type": "code",
   "execution_count": null,
   "id": "77eed355",
   "metadata": {},
   "outputs": [],
   "source": [
    "sims = []\n",
    "\n",
    "for graph in graph_list:\n",
    "    node_embeddings = gnn(data.x, data.edge_index, data.edge_attr, data.batch)\n",
    "    sim = torch.cosine_similarity(node_embeddings.unsqueeze(1), node_embeddings.unsqueeze(0), dim=2)\n",
    "    mean_sim = sim.mean()\n",
    "    sims.append(mean_sim)\n",
    "\n",
    "np.mean(sims)"
   ]
  },
  {
   "cell_type": "code",
   "execution_count": 10,
   "id": "263ed9c6",
   "metadata": {},
   "outputs": [],
   "source": [
    "if not os.path.exists(\"graph_list.pt\"):\n",
    "    torch.save(graph_list, \"graph_list.pt\")\n",
    "\n",
    "total_len = len(graph_list)\n",
    "val_ratio = 0.2\n",
    "val_len = int(total_len * val_ratio)\n",
    "train_len = total_len - val_len\n",
    "\n",
    "train_dataset, val_dataset = random_split(graph_list, [train_len, val_len])"
   ]
  },
  {
   "cell_type": "code",
   "execution_count": 11,
   "id": "aa5bbfe4",
   "metadata": {},
   "outputs": [
    {
     "name": "stdout",
     "output_type": "stream",
     "text": [
      "Mean tour length: 9913.23 seconds\n"
     ]
    }
   ],
   "source": [
    "val_loader_test = DataLoader(val_dataset, batch_size=1, shuffle=False, pin_memory=True, num_workers=4)\n",
    "tour_lengths = []\n",
    "for route in val_loader_test:\n",
    "    route_id = route.route_id[0]\n",
    "    actual_route = df[df[\"route_id\"] == route_id].sort_values(by=\"order\")[\"stop_id\"].tolist()\n",
    "    actual_time = calculate_time(route_id, actual_route)\n",
    "    tour_lengths.append(actual_time)\n",
    "\n",
    "mean_tour_length = np.mean(tour_lengths)\n",
    "print(f\"Mean tour length: {mean_tour_length:.2f} seconds\")\n"
   ]
  },
  {
   "cell_type": "code",
   "execution_count": null,
   "id": "a6bd44e3",
   "metadata": {},
   "outputs": [],
   "source": [
    "# G = to_networkx(graph_list[0])\n",
    "\n",
    "# plt.figure(figsize=(8, 6))\n",
    "# nx.draw(G, with_labels=True, node_color='skyblue', edge_color='gray', node_size=500)\n",
    "# plt.title(\"Visualización del Grafo\")\n",
    "# plt.show()"
   ]
  },
  {
   "cell_type": "code",
   "execution_count": 58,
   "id": "919ff9be",
   "metadata": {},
   "outputs": [],
   "source": [
    "# l = [stops_idx[graph_list[56].route_id][s] for s in graph_list[0].y.tolist()]\n",
    "# t1 = calculate_time(graph_list[56].route_id, l)\n",
    "# t2 = calculate_time_old(graph_list[56].route_id, l)\n",
    "\n",
    "# print(f\"Calculated time: {t1}, Old time: {t2}\")"
   ]
  },
  {
   "cell_type": "markdown",
   "id": "e159dbeb",
   "metadata": {},
   "source": [
    "# Model"
   ]
  },
  {
   "cell_type": "code",
   "execution_count": 38,
   "id": "6e39cea8",
   "metadata": {},
   "outputs": [],
   "source": [
    "class GNN(nn.Module):\n",
    "    def __init__(self, node_features, edge_features, hidden_channels, heads, dropout=0.2):\n",
    "        super().__init__()\n",
    "        self.dropout = dropout\n",
    "\n",
    "        self.conv1 = GATv2Conv(node_features, hidden_channels//2, heads=heads, dropout=dropout, edge_dim=edge_features, add_self_loops=False)\n",
    "        self.conv2 = GATv2Conv((hidden_channels//2) * heads, hidden_channels, heads=heads//2, dropout=dropout, edge_dim=edge_features, add_self_loops=False)\n",
    "        self.conv3 = GATv2Conv(hidden_channels * (heads//2), hidden_channels, heads=1, dropout=dropout, edge_dim=edge_features, add_self_loops=False, concat=False)\n",
    "\n",
    "        self.norm1 = nn.LayerNorm((hidden_channels//2) * heads)\n",
    "        self.norm2 = nn.LayerNorm(hidden_channels * (heads//2))\n",
    "        self.norm3 = nn.LayerNorm(hidden_channels)\n",
    "\n",
    "\n",
    "    def forward(self, x, edge_index, edge_attr, batch):\n",
    "        x1 = self.conv1(x, edge_index, edge_attr=edge_attr)\n",
    "        x1 = self.norm1(x1)\n",
    "        x1 = F.elu(x1)\n",
    "        x1 = F.dropout(x1, p=self.dropout, training=self.training)\n",
    "\n",
    "        x2 = self.conv2(x1, edge_index, edge_attr=edge_attr)\n",
    "        x2 = self.norm2(x2)\n",
    "        x2 = F.elu(x2 + x1)\n",
    "        x2 = F.dropout(x2, p=self.dropout, training=self.training)\n",
    "\n",
    "        x3 = self.conv3(x2, edge_index, edge_attr=edge_attr)\n",
    "        x3 = self.norm3(x3)\n",
    "\n",
    "        # if batch is not None:\n",
    "        #     graph_embed = global_mean_pool(x3, batch)\n",
    "        #     return x3, graph_embed\n",
    "\n",
    "        return x3"
   ]
  },
  {
   "cell_type": "code",
   "execution_count": 22,
   "id": "c74926c9",
   "metadata": {},
   "outputs": [],
   "source": [
    "class PointerDecoder(nn.Module):\n",
    "    def __init__(self, embed_dim):\n",
    "        super().__init__()\n",
    "        self.query_proj = nn.Sequential(\n",
    "            nn.Linear(embed_dim, embed_dim),\n",
    "            nn.ReLU(),\n",
    "            nn.Linear(embed_dim, embed_dim)\n",
    "        )\n",
    "        self.key_proj = nn.Sequential(\n",
    "            nn.Linear(embed_dim, embed_dim),\n",
    "            nn.ReLU(),\n",
    "            nn.Linear(embed_dim, embed_dim)\n",
    "        )\n",
    "        self.rnn = nn.GRU(embed_dim, embed_dim)\n",
    "        self.v = nn.Parameter(torch.randn(embed_dim))\n",
    "\n",
    "    def forward(self, node_embeddings, start_nodes, batch_idx):\n",
    "        device = node_embeddings.device\n",
    "        batch_size = start_nodes.size(0)\n",
    "        total_nodes = node_embeddings.size(0)\n",
    "        hidden_dim = node_embeddings.size(1)\n",
    "\n",
    "        mask = torch.ones(total_nodes, dtype=torch.bool, device=device)\n",
    "        hidden = torch.zeros(1, batch_size, hidden_dim, device=node_embeddings.device)\n",
    "\n",
    "        current = start_nodes.clone()\n",
    "\n",
    "        tours = [[] for _ in range(batch_size)]\n",
    "        log_probs = [[] for _ in range(batch_size)]\n",
    "\n",
    "        for _ in range(250):\n",
    "            active_graphs = []\n",
    "            for i in range(batch_size):\n",
    "                node_indices = (batch_idx == i).nonzero(as_tuple=False).squeeze()\n",
    "                if len(tours[i]) >= len(node_indices):\n",
    "                    continue\n",
    "                \n",
    "                tours[i].append(current[i].item())\n",
    "                mask[current[i]] = False\n",
    "                active_graphs.append(i)\n",
    "\n",
    "            if not active_graphs:\n",
    "                break\n",
    "\n",
    "            active_graph_tensor = torch.tensor(active_graphs, device=device)\n",
    "\n",
    "            node_embed = node_embeddings[current[active_graph_tensor]].unsqueeze(0)\n",
    "            _, hidden[:, active_graph_tensor] = self.rnn(node_embed, hidden[:, active_graph_tensor])\n",
    "\n",
    "            query = self.query_proj(hidden[0, active_graph_tensor])\n",
    "            keys = self.key_proj(node_embeddings)\n",
    "\n",
    "            query = F.normalize(query, dim=-1)\n",
    "            keys = F.normalize(keys, dim=-1)\n",
    "\n",
    "            scores = torch.matmul(torch.tanh(keys + query.unsqueeze(1)), self.v).squeeze(-1)\n",
    "\n",
    "            for idx_i, batch_id in enumerate(active_graphs):\n",
    "                node_ids = (batch_idx == batch_id).nonzero(as_tuple=False).squeeze()\n",
    "                local_mask = torch.zeros(total_nodes, dtype=torch.bool, device=device)\n",
    "                local_mask[node_ids] = True\n",
    "                local_mask = local_mask & mask\n",
    "                scores[idx_i][~local_mask] = -1e9\n",
    "\n",
    "            probs = F.softmax(scores, dim=1)\n",
    "            log_prob = torch.log(probs + 1e-10)\n",
    "\n",
    "            if self.training:\n",
    "                next_nodes = torch.multinomial(probs, 1).squeeze(1)\n",
    "            else:\n",
    "                next_nodes = torch.argmax(probs, dim=1)\n",
    "\n",
    "            for idx_i, batch_id in enumerate(active_graphs):\n",
    "                log_probs[batch_id].append(log_prob[idx_i, next_nodes[idx_i]])\n",
    "                current[batch_id] = next_nodes[idx_i]\n",
    "\n",
    "\n",
    "        final_tours = [torch.tensor(t, device=device) for t in tours]\n",
    "        final_log_probs = [torch.stack(lp) for lp in log_probs]\n",
    "\n",
    "        return final_tours, final_log_probs"
   ]
  },
  {
   "cell_type": "code",
   "execution_count": 23,
   "id": "2d827c21",
   "metadata": {},
   "outputs": [],
   "source": [
    "def reinforce_loss(tour_length, log_probs, baseline=None):\n",
    "    if baseline is None:\n",
    "        reward = -tour_length\n",
    "    else:\n",
    "        reward = baseline - tour_length\n",
    "\n",
    "    # reward /= 1000000.0\n",
    "\n",
    "    if log_probs.ndim > 1:\n",
    "        log_probs = log_probs.sum(dim=1)\n",
    "    \n",
    "    loss = -torch.mean(log_probs * reward.detach())\n",
    "    return loss"
   ]
  },
  {
   "cell_type": "code",
   "execution_count": 24,
   "id": "66b4b347",
   "metadata": {},
   "outputs": [],
   "source": [
    "def evaluate(encoder, decoder, loader, device):\n",
    "    encoder.eval()\n",
    "    decoder.eval()\n",
    "\n",
    "    tour_lengths = []\n",
    "\n",
    "    with torch.no_grad():\n",
    "        for batch in loader:\n",
    "            batch = batch.to(device)\n",
    "            node_embeddings = encoder(batch.x, batch.edge_index, batch.edge_attr, batch.batch)\n",
    "            batch_size = batch.num_graphs\n",
    "\n",
    "            start_nodes = []\n",
    "            for i in range(batch_size):\n",
    "                node_indices = (batch.batch == i).nonzero(as_tuple=False).squeeze()\n",
    "                local_start = batch.start_node[i].item()\n",
    "                global_start = node_indices[local_start]\n",
    "                start_nodes.append(global_start)\n",
    "\n",
    "            start_nodes = torch.stack(start_nodes)\n",
    "\n",
    "            tours, _ = decoder(node_embeddings, start_nodes, batch.batch)\n",
    "\n",
    "            for i, tour in enumerate(tours):\n",
    "                route_id = batch.route_id[i]\n",
    "                node_mask = (batch.batch == i)\n",
    "                global_node_indices = node_mask.nonzero(as_tuple=False).squeeze()\n",
    "\n",
    "                global_to_local = {global_idx.item(): local_idx for local_idx, global_idx in enumerate(global_node_indices)}\n",
    "\n",
    "                stop_indices = [global_to_local[node.item()] for node in tour]\n",
    "\n",
    "                tour_length = calculate_time(route_id, [stops_idx[route_id][s] for s in stop_indices])\n",
    "\n",
    "                tour_lengths.append(tour_length)\n",
    "\n",
    "    encoder.train()\n",
    "    decoder.train()\n",
    "\n",
    "    return sum(tour_lengths) / len(tour_lengths)\n"
   ]
  },
  {
   "cell_type": "code",
   "execution_count": 25,
   "id": "15540571",
   "metadata": {},
   "outputs": [],
   "source": [
    "def train(encoder, decoder, optimizer, train_loader, val_loader, epochs, device=\"cpu\", print_every=5):\n",
    "    encoder = encoder.to(device)\n",
    "    decoder = decoder.to(device)\n",
    "\n",
    "    train_losses = []\n",
    "    avg_tour_lengths = []\n",
    "\n",
    "    for epoch in range(epochs):\n",
    "        epoch_loss = 0\n",
    "        epoch_tour_lengths = []\n",
    "        batch_time = 0\n",
    "\n",
    "        for batch_idx, batch in enumerate(train_loader):\n",
    "            start_time = time.time()\n",
    "            batch = batch.to(device)\n",
    "            optimizer.zero_grad()\n",
    "            node_embeddings = encoder(batch.x, batch.edge_index, batch.edge_attr, batch.batch)\n",
    "            batch_size = batch.num_graphs\n",
    "\n",
    "            start_nodes = []\n",
    "            for i in range(batch.num_graphs):\n",
    "                node_indices = (batch.batch == i).nonzero(as_tuple=False).squeeze()\n",
    "                local_start_node = batch.start_node[i]\n",
    "                global_start_node = node_indices[local_start_node]\n",
    "                start_nodes.append(global_start_node)\n",
    "\n",
    "            start_nodes = torch.stack(start_nodes)\n",
    "\n",
    "            node_embeddings = F.normalize(node_embeddings, dim=1)\n",
    "            tours, log_probs = decoder(node_embeddings, start_nodes, batch.batch)\n",
    "\n",
    "            batch_tour_lengths = []\n",
    "            batch_log_probs = []\n",
    "\n",
    "            for i in range(batch_size):\n",
    "                route_id = batch.route_id[i]\n",
    "                node_mask = (batch.batch == i)\n",
    "                global_node_indices = node_mask.nonzero(as_tuple=False).squeeze()\n",
    "\n",
    "                global_to_local = {global_idx.item(): local_idx for local_idx, global_idx in enumerate(global_node_indices)}\n",
    "\n",
    "                tour = tours[i]\n",
    "                stop_indices = [global_to_local[node.item()] for node in tour]\n",
    "\n",
    "                tour_length = calculate_time(route_id, [stops_idx[route_id][s] for s in stop_indices])\n",
    "\n",
    "                batch_tour_lengths.append(tour_length)\n",
    "                batch_log_probs.append(torch.sum(log_probs[i]))\n",
    "                epoch_tour_lengths.append(tour_length)\n",
    "\n",
    "            tour_lengths_tensor = torch.tensor(batch_tour_lengths, dtype=torch.float32, device=device)\n",
    "            log_probs_tensor = torch.stack(batch_log_probs)\n",
    "            baseline = tour_lengths_tensor.mean().detach()\n",
    "            batch_loss = reinforce_loss(tour_lengths_tensor, log_probs_tensor, baseline)\n",
    "\n",
    "            batch_loss.backward()\n",
    "\n",
    "            torch.nn.utils.clip_grad_norm_(encoder.parameters(), max_norm=1.0)\n",
    "            torch.nn.utils.clip_grad_norm_(decoder.parameters(), max_norm=1.0)\n",
    "\n",
    "            optimizer.step()\n",
    "\n",
    "            epoch_loss += batch_loss.item()\n",
    "\n",
    "            end_time = time.time()\n",
    "\n",
    "            batch_time += (end_time - start_time)\n",
    "\n",
    "            if (batch_idx + 1) % print_every == 0:\n",
    "                recent_lengths = epoch_tour_lengths[-batch_size:]\n",
    "                average_time = batch_time / print_every\n",
    "                print(f\"\\033[92mEpoch {epoch+1}/{epochs}, Batch {batch_idx+1}/{len(train_loader)}, \"\n",
    "                      f\"Loss: {batch_loss.item():.4f}, Avg Tour Length: {sum(recent_lengths)/len(recent_lengths):.4f}, \"\n",
    "                      f\"Average time per batch: {average_time:.4f}\\033[0m\")\n",
    "                batch_time = 0\n",
    "\n",
    "        avg_epoch_loss = epoch_loss / len(train_loader)\n",
    "        avg_epoch_tour_length = torch.mean(torch.tensor(epoch_tour_lengths)).item()\n",
    "\n",
    "        train_losses.append(avg_epoch_loss)\n",
    "        avg_tour_lengths.append(avg_epoch_tour_length)\n",
    "\n",
    "        val_avg_tour_length = evaluate(encoder, decoder, val_loader, device)\n",
    "\n",
    "        print(f\"\\033[94mEpoch {epoch+1}/{epochs} completed, Avg Loss: {avg_epoch_loss:.4f}, \"\n",
    "                f\"Avg Tour Length: {avg_epoch_tour_length:.4f}, Validation Avg Tour Length: {val_avg_tour_length:.4f}\\033[0m\")\n"
   ]
  },
  {
   "cell_type": "code",
   "execution_count": null,
   "id": "6cab572b",
   "metadata": {},
   "outputs": [
    {
     "name": "stdout",
     "output_type": "stream",
     "text": [
      "\u001b[92mEpoch 1/50, Batch 5/71, Loss: -1172597.8750, Avg Tour Length: 50315.4125, Average time per batch: 17.2396\u001b[0m\n",
      "\u001b[92mEpoch 1/50, Batch 10/71, Loss: -1804774.0000, Avg Tour Length: 45767.3344, Average time per batch: 14.9140\u001b[0m\n",
      "\u001b[92mEpoch 1/50, Batch 15/71, Loss: -2425451.5000, Avg Tour Length: 48766.8281, Average time per batch: 16.3604\u001b[0m\n",
      "\u001b[92mEpoch 1/50, Batch 20/71, Loss: -2560418.5000, Avg Tour Length: 56033.6281, Average time per batch: 15.1237\u001b[0m\n",
      "\u001b[92mEpoch 1/50, Batch 25/71, Loss: -1691614.6250, Avg Tour Length: 41515.9844, Average time per batch: 17.1551\u001b[0m\n",
      "\u001b[92mEpoch 1/50, Batch 30/71, Loss: -1163165.7500, Avg Tour Length: 50193.1156, Average time per batch: 16.0021\u001b[0m\n",
      "\u001b[92mEpoch 1/50, Batch 35/71, Loss: -915462.7500, Avg Tour Length: 47203.7469, Average time per batch: 15.5439\u001b[0m\n",
      "\u001b[92mEpoch 1/50, Batch 40/71, Loss: -1680149.1250, Avg Tour Length: 48533.3375, Average time per batch: 15.5612\u001b[0m\n",
      "\u001b[92mEpoch 1/50, Batch 45/71, Loss: -1629947.5000, Avg Tour Length: 47645.7031, Average time per batch: 15.3473\u001b[0m\n",
      "\u001b[92mEpoch 1/50, Batch 50/71, Loss: -1497958.5000, Avg Tour Length: 47847.3375, Average time per batch: 15.6210\u001b[0m\n",
      "\u001b[92mEpoch 1/50, Batch 55/71, Loss: -1393556.2500, Avg Tour Length: 49399.5563, Average time per batch: 17.6070\u001b[0m\n",
      "\u001b[92mEpoch 1/50, Batch 60/71, Loss: -1412219.0000, Avg Tour Length: 50613.4594, Average time per batch: 15.9194\u001b[0m\n",
      "\u001b[92mEpoch 1/50, Batch 65/71, Loss: -1361946.5000, Avg Tour Length: 46537.4812, Average time per batch: 16.1777\u001b[0m\n",
      "\u001b[92mEpoch 1/50, Batch 70/71, Loss: -1795772.8750, Avg Tour Length: 45550.4750, Average time per batch: 15.1727\u001b[0m\n",
      "\u001b[94mEpoch 1/50 completed, Avg Loss: -1688777.4005, Avg Tour Length: 47425.1562, Validation Avg Tour Length: 30293.6546\u001b[0m\n",
      "\u001b[92mEpoch 2/50, Batch 5/71, Loss: -1338110.7500, Avg Tour Length: 44840.9313, Average time per batch: 15.4658\u001b[0m\n",
      "\u001b[92mEpoch 2/50, Batch 10/71, Loss: -1696847.2500, Avg Tour Length: 46324.2844, Average time per batch: 15.1874\u001b[0m\n",
      "\u001b[92mEpoch 2/50, Batch 15/71, Loss: -2054833.7500, Avg Tour Length: 50182.9656, Average time per batch: 15.7246\u001b[0m\n"
     ]
    }
   ],
   "source": [
    "hidden_channels = 128\n",
    "lr = 0.0003\n",
    "epochs = 50\n",
    "device = torch.device(\"cuda\" if torch.cuda.is_available() else \"cpu\")\n",
    "# device = \"cpu\"\n",
    "\n",
    "encoder = GNN(node_features=34, edge_features=1, hidden_channels=hidden_channels, heads=4)\n",
    "decoder = PointerDecoder(hidden_channels)\n",
    "\n",
    "train_loader = DataLoader(train_dataset, batch_size=32, shuffle=True, pin_memory=True, num_workers=4)\n",
    "val_loader = DataLoader(val_dataset, batch_size=16, shuffle=False, pin_memory=True, num_workers=4)\n",
    "\n",
    "encoder.train()\n",
    "decoder.train()\n",
    "\n",
    "optimizer = torch.optim.Adam([\n",
    "    {'params': encoder.parameters()},\n",
    "    {'params': decoder.parameters()}\n",
    "], lr=lr)\n",
    "\n",
    "train(encoder, decoder, optimizer, train_loader, val_loader, epochs, device)"
   ]
  },
  {
   "cell_type": "code",
   "execution_count": 37,
   "id": "26b038a5",
   "metadata": {},
   "outputs": [
    {
     "name": "stdout",
     "output_type": "stream",
     "text": [
      "tensor(0.6736) tensor(0.4467)\n"
     ]
    },
    {
     "data": {
      "image/png": "[encoded data removed]",
      "text/plain": [
       "<Figure size 640x480 with 2 Axes>"
      ]
     },
     "metadata": {},
     "output_type": "display_data"
    }
   ],
   "source": [
    "gnn = GNN(node_features=34, edge_features=1, hidden_channels=128, heads=4)\n",
    "\n",
    "gnn.eval()\n",
    "\n",
    "with torch.no_grad():\n",
    "    data = graph_list[0]\n",
    "    node_embeddings = gnn(data.x, data.edge_index, data.edge_attr, data.batch)\n",
    "    cos_sim_matrix = torch.nn.functional.cosine_similarity(\n",
    "        node_embeddings.unsqueeze(1),\n",
    "        node_embeddings.unsqueeze(0),\n",
    "        dim=-1\n",
    "    )\n",
    "\n",
    "print(cos_sim_matrix.mean(), cos_sim_matrix.std())\n",
    "sns.heatmap(cos_sim_matrix.cpu().numpy(), cmap=\"hot\")\n",
    "plt.title(\"Cosine similarity between node embeddings\")\n",
    "plt.show()"
   ]
  },
  {
   "cell_type": "code",
   "execution_count": 40,
   "id": "07321390",
   "metadata": {},
   "outputs": [
    {
     "data": {
      "text/plain": [
       "tensor([[ 0.4787,  0.0278,  0.7396,  ...,  0.1509,  0.6326, -1.2034],\n",
       "        [ 0.7012, -0.5595, -0.2367,  ..., -0.3911, -1.0139,  0.2297],\n",
       "        [-0.6346, -0.1518,  0.1215,  ..., -1.0562, -0.2497,  0.8286],\n",
       "        ...,\n",
       "        [-0.2329, -0.6818, -0.9272,  ...,  1.6072,  0.3218, -1.3520],\n",
       "        [ 0.4645,  0.3493, -0.5274,  ...,  0.9442, -0.1168, -1.2497],\n",
       "        [ 0.1861,  0.1096, -0.6330,  ..., -0.1086, -1.2249,  1.8277]])"
      ]
     },
     "execution_count": 40,
     "metadata": {},
     "output_type": "execute_result"
    }
   ],
   "source": [
    "graph_list[0].x"
   ]
  },
  {
   "cell_type": "code",
   "execution_count": 26,
   "id": "afa19a13",
   "metadata": {},
   "outputs": [
    {
     "data": {
      "text/plain": [
       "9998.183292122923"
      ]
     },
     "execution_count": 26,
     "metadata": {},
     "output_type": "execute_result"
    }
   ],
   "source": [
    "route_times = []\n",
    "for route_id, route in grouped:\n",
    "    t = calculate_time(route_id, route.sort_values(by=\"order\")[\"stop_id\"].tolist())\n",
    "    route_times.append(t)\n",
    "\n",
    "np.mean(route_times).item()"
   ]
  },
  {
   "cell_type": "code",
   "execution_count": 72,
   "id": "d3301f7e",
   "metadata": {},
   "outputs": [
    {
     "name": "stdout",
     "output_type": "stream",
     "text": [
      "RouteID_00930ddc-25f9-4371-a437-1e37c9d0a80d - Not connected\n",
      "RouteID_024a44ee-5a90-48d3-8f80-d8e7b124971e - Not connected\n",
      "RouteID_024a44ee-5a90-48d3-8f80-d8e7b124971e - Not connected\n",
      "RouteID_024a44ee-5a90-48d3-8f80-d8e7b124971e - Not connected\n",
      "RouteID_024a44ee-5a90-48d3-8f80-d8e7b124971e - Not connected\n",
      "RouteID_024a44ee-5a90-48d3-8f80-d8e7b124971e - Not connected\n",
      "RouteID_024a44ee-5a90-48d3-8f80-d8e7b124971e - Not connected\n",
      "RouteID_025ecb40-3116-45af-b6a1-db5a5531fafc - Not connected\n",
      "RouteID_025ecb40-3116-45af-b6a1-db5a5531fafc - Not connected\n",
      "RouteID_025ecb40-3116-45af-b6a1-db5a5531fafc - Not connected\n",
      "RouteID_025ecb40-3116-45af-b6a1-db5a5531fafc - Not connected\n",
      "RouteID_025ecb40-3116-45af-b6a1-db5a5531fafc - Not connected\n",
      "RouteID_025ecb40-3116-45af-b6a1-db5a5531fafc - Not connected\n",
      "RouteID_025ecb40-3116-45af-b6a1-db5a5531fafc - Not connected\n",
      "RouteID_03256465-637e-4330-a753-9e86d50e976e - Not connected\n",
      "RouteID_03256465-637e-4330-a753-9e86d50e976e - Not connected\n",
      "RouteID_03256465-637e-4330-a753-9e86d50e976e - Not connected\n",
      "RouteID_03256465-637e-4330-a753-9e86d50e976e - Not connected\n",
      "RouteID_03256465-637e-4330-a753-9e86d50e976e - Not connected\n",
      "RouteID_03256465-637e-4330-a753-9e86d50e976e - Not connected\n",
      "RouteID_03256465-637e-4330-a753-9e86d50e976e - Not connected\n",
      "RouteID_03256465-637e-4330-a753-9e86d50e976e - Not connected\n",
      "RouteID_03256465-637e-4330-a753-9e86d50e976e - Not connected\n",
      "RouteID_03256465-637e-4330-a753-9e86d50e976e - Not connected\n",
      "RouteID_03256465-637e-4330-a753-9e86d50e976e - Not connected\n",
      "RouteID_03256465-637e-4330-a753-9e86d50e976e - Not connected\n",
      "RouteID_070b05b1-6cfc-4792-9817-b560e91d2584 - Not connected\n",
      "RouteID_079d4ab4-c868-48f9-a06d-f154992deefa - Not connected\n",
      "RouteID_079d4ab4-c868-48f9-a06d-f154992deefa - Not connected\n",
      "RouteID_079d4ab4-c868-48f9-a06d-f154992deefa - Not connected\n",
      "RouteID_079d4ab4-c868-48f9-a06d-f154992deefa - Not connected\n",
      "RouteID_09c1a521-4deb-4c34-84f1-3cccd4a1c037 - Not connected\n",
      "RouteID_09c1a521-4deb-4c34-84f1-3cccd4a1c037 - Not connected\n",
      "RouteID_09c1a521-4deb-4c34-84f1-3cccd4a1c037 - Not connected\n",
      "RouteID_09c1a521-4deb-4c34-84f1-3cccd4a1c037 - Not connected\n",
      "RouteID_0abc266a-ae67-4d85-b3d6-7bfd1adcaeb3 - Not connected\n",
      "RouteID_0abc266a-ae67-4d85-b3d6-7bfd1adcaeb3 - Not connected\n",
      "RouteID_0ae40c8b-c169-473f-930e-91c73ac13374 - Not connected\n",
      "RouteID_0ae40c8b-c169-473f-930e-91c73ac13374 - Not connected\n",
      "RouteID_0ae40c8b-c169-473f-930e-91c73ac13374 - Not connected\n",
      "RouteID_0ae40c8b-c169-473f-930e-91c73ac13374 - Not connected\n",
      "RouteID_0ae40c8b-c169-473f-930e-91c73ac13374 - Not connected\n",
      "RouteID_0ae40c8b-c169-473f-930e-91c73ac13374 - Not connected\n"
     ]
    },
    {
     "ename": "KeyboardInterrupt",
     "evalue": "",
     "output_type": "error",
     "traceback": [
      "\u001b[31m---------------------------------------------------------------------------\u001b[39m",
      "\u001b[31mKeyboardInterrupt\u001b[39m                         Traceback (most recent call last)",
      "\u001b[32m/tmp/ipykernel_13709/65141571.py\u001b[39m in \u001b[36m?\u001b[39m\u001b[34m()\u001b[39m\n\u001b[32m      7\u001b[39m         sorted_d = dict(sorted(d.items(), key=\u001b[38;5;28;01mlambda\u001b[39;00m item: item[\u001b[32m1\u001b[39m]))\n\u001b[32m      8\u001b[39m         top_d = dict(list(sorted_d.items())[\u001b[32m1\u001b[39m:\u001b[32m31\u001b[39m])\n\u001b[32m      9\u001b[39m         connected_orders = []\n\u001b[32m     10\u001b[39m         \u001b[38;5;28;01mfor\u001b[39;00m s \u001b[38;5;28;01min\u001b[39;00m top_d.keys():\n\u001b[32m---> \u001b[39m\u001b[32m11\u001b[39m             o = route[route[\u001b[33m\"stop_id\"\u001b[39m] == s][\u001b[33m\"order\"\u001b[39m]\n\u001b[32m     12\u001b[39m             o = o.values[\u001b[32m0\u001b[39m]\n\u001b[32m     13\u001b[39m             connected_orders.append(o.item())\n\u001b[32m     14\u001b[39m         \u001b[38;5;28;01mif\u001b[39;00m order != max_order \u001b[38;5;28;01mand\u001b[39;00m order + \u001b[32m1\u001b[39m \u001b[38;5;28;01mnot\u001b[39;00m \u001b[38;5;28;01min\u001b[39;00m connected_orders:\n",
      "\u001b[32m~/.local/lib/python3.12/site-packages/pandas/core/frame.py\u001b[39m in \u001b[36m?\u001b[39m\u001b[34m(self, key)\u001b[39m\n\u001b[32m-> \u001b[39m\u001b[32m4062\u001b[39m     \u001b[38;5;28;01mdef\u001b[39;00m __getitem__(self, key):\n\u001b[32m   4063\u001b[39m         check_dict_or_set_indexers(key)\n\u001b[32m   4064\u001b[39m         key = lib.item_from_zerodim(key)\n\u001b[32m   4065\u001b[39m         key = com.apply_if_callable(key, self)\n",
      "\u001b[31mKeyboardInterrupt\u001b[39m: "
     ]
    }
   ],
   "source": [
    "for route_id, route in grouped:\n",
    "    max_order = route[\"order\"].max()\n",
    "    for i, stop in enumerate(route.stop_id):\n",
    "        order = route[route[\"stop_id\"] == stop][\"order\"]\n",
    "        order = order.values[0]\n",
    "        d = times[route_id][stop]\n",
    "        sorted_d = dict(sorted(d.items(), key=lambda item: item[1]))\n",
    "        top_d = dict(list(sorted_d.items())[1:31])\n",
    "        connected_orders = []\n",
    "        for s in top_d.keys():\n",
    "            o = route[route[\"stop_id\"] == s][\"order\"]\n",
    "            o = o.values[0]\n",
    "            connected_orders.append(o.item())\n",
    "        if order != max_order and order + 1 not in connected_orders:\n",
    "            print(f\"{route_id} - Not connected\")"
   ]
  }
 ],
 "metadata": {
  "kernelspec": {
   "display_name": "Python 3",
   "language": "python",
   "name": "python3"
  },
  "language_info": {
   "codemirror_mode": {
    "name": "ipython",
    "version": 3
   },
   "file_extension": ".py",
   "mimetype": "text/x-python",
   "name": "python",
   "nbconvert_exporter": "python",
   "pygments_lexer": "ipython3",
   "version": "3.12.3"
  }
 },
 "nbformat": 4,
 "nbformat_minor": 5
}
